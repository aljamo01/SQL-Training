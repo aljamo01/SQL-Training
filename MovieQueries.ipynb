{
 "cells": [
  {
   "cell_type": "markdown",
   "metadata": {},
   "source": [
    "# Queries about Movies\n",
    "\n",
    "For each of the questions in this notebook, you should create an answer using both relational algebra as well as sql.\n",
    "\n",
    "This notebook will enable you to check your answer. To do so run your query cell and then run the checker cell. Running the cells out of order will lead to unpredictable results.\n",
    "\n"
   ]
  },
  {
   "cell_type": "code",
   "execution_count": 6,
   "metadata": {
    "deletable": false,
    "editable": false,
    "nbgrader": {
     "checksum": "fd2b20ec1523378ab2eae448da37a4eb",
     "grade": false,
     "grade_id": "p1",
     "locked": true,
     "schema_version": 1,
     "solution": false
    }
   },
   "outputs": [],
   "source": [
    "import warnings\n",
    "warnings.filterwarnings('ignore')\n",
    "\n",
    "from reframe import Relation\n",
    "from sols4 import *"
   ]
  },
  {
   "cell_type": "code",
   "execution_count": 7,
   "metadata": {
    "deletable": false,
    "editable": false,
    "nbgrader": {
     "checksum": "c26521bdb87722b0b0bd539f091fe369",
     "grade": false,
     "grade_id": "p2",
     "locked": true,
     "schema_version": 1,
     "solution": false
    }
   },
   "outputs": [],
   "source": [
    "cast = Relation('/home/faculty/millbr02/pub/cast.csv',sep=',')\n",
    "title = Relation('/home/faculty/millbr02/pub/titles.csv',sep=',')\n",
    "release_date = Relation('/home/faculty/millbr02/pub/release_dates.csv',sep=',')"
   ]
  },
  {
   "cell_type": "code",
   "execution_count": 8,
   "metadata": {},
   "outputs": [
    {
     "data": {
      "text/html": [
       "<div>\n",
       "<style>\n",
       "    .dataframe thead tr:only-child th {\n",
       "        text-align: right;\n",
       "    }\n",
       "\n",
       "    .dataframe thead th {\n",
       "        text-align: left;\n",
       "    }\n",
       "\n",
       "    .dataframe tbody tr th {\n",
       "        vertical-align: top;\n",
       "    }\n",
       "</style>\n",
       "<table border=\"1\" class=\"dataframe\">\n",
       "  <thead>\n",
       "    <tr style=\"text-align: right;\">\n",
       "      <th></th>\n",
       "      <th>title</th>\n",
       "      <th>name</th>\n",
       "    </tr>\n",
       "  </thead>\n",
       "  <tbody>\n",
       "    <tr>\n",
       "      <th>1511</th>\n",
       "      <td>Steve Jobs</td>\n",
       "      <td>$hutter Boy</td>\n",
       "    </tr>\n",
       "    <tr>\n",
       "      <th>378</th>\n",
       "      <td>Straight Outta Compton</td>\n",
       "      <td>$hutter Boy</td>\n",
       "    </tr>\n",
       "    <tr>\n",
       "      <th>150</th>\n",
       "      <td>Spy</td>\n",
       "      <td>50 Cent</td>\n",
       "    </tr>\n",
       "    <tr>\n",
       "      <th>0</th>\n",
       "      <td>Southpaw</td>\n",
       "      <td>50 Cent</td>\n",
       "    </tr>\n",
       "    <tr>\n",
       "      <th>6599</th>\n",
       "      <td>Joy</td>\n",
       "      <td>?dgar (II) Ram?rez</td>\n",
       "    </tr>\n",
       "  </tbody>\n",
       "</table>\n",
       "</div>"
      ],
      "text/plain": [
       "                       title                name\n",
       "1511              Steve Jobs         $hutter Boy\n",
       "378   Straight Outta Compton         $hutter Boy\n",
       "150                      Spy             50 Cent\n",
       "0                   Southpaw             50 Cent\n",
       "6599                     Joy  ?dgar (II) Ram?rez"
      ]
     },
     "execution_count": 8,
     "metadata": {},
     "output_type": "execute_result"
    }
   ],
   "source": [
    "cast.query(\"type == 'actor' & year == 2015\").njoin(release_date.query(\"country == 'Norway'\")).project(['title','name']).sort(['name']).head()"
   ]
  },
  {
   "cell_type": "code",
   "execution_count": 9,
   "metadata": {
    "deletable": false,
    "editable": false,
    "nbgrader": {
     "checksum": "577bf2174b6e77afd35d098cf85c3958",
     "grade": false,
     "grade_id": "p3",
     "locked": true,
     "schema_version": 1,
     "solution": false
    }
   },
   "outputs": [],
   "source": [
    "%load_ext sql"
   ]
  },
  {
   "cell_type": "code",
   "execution_count": null,
   "metadata": {
    "deletable": false,
    "editable": false,
    "nbgrader": {
     "checksum": "341e9e542af73e4bf10ea6d3dc41bf57",
     "grade": false,
     "grade_id": "p4",
     "locked": true,
     "schema_version": 1,
     "solution": false
    }
   },
   "outputs": [],
   "source": []
  },
  {
   "cell_type": "code",
   "execution_count": 10,
   "metadata": {},
   "outputs": [
    {
     "data": {
      "text/plain": [
       "'Connected: aljamo01@movies'"
      ]
     },
     "execution_count": 10,
     "metadata": {},
     "output_type": "execute_result"
    }
   ],
   "source": [
    "%sql postgresql://aljamo01:@localhost/movies"
   ]
  },
  {
   "cell_type": "code",
   "execution_count": 11,
   "metadata": {},
   "outputs": [
    {
     "name": "stdout",
     "output_type": "stream",
     "text": [
      "10 rows affected.\n"
     ]
    },
    {
     "data": {
      "text/html": [
       "<table>\n",
       "    <tr>\n",
       "        <th>title</th>\n",
       "        <th>name</th>\n",
       "    </tr>\n",
       "    <tr>\n",
       "        <td>Southpaw</td>\n",
       "        <td>50 Cent</td>\n",
       "    </tr>\n",
       "    <tr>\n",
       "        <td>Spy</td>\n",
       "        <td>50 Cent</td>\n",
       "    </tr>\n",
       "    <tr>\n",
       "        <td>Pitch Perfect 2</td>\n",
       "        <td>Aakomon Jones</td>\n",
       "    </tr>\n",
       "    <tr>\n",
       "        <td>Pan</td>\n",
       "        <td>Aaran Mitra</td>\n",
       "    </tr>\n",
       "    <tr>\n",
       "        <td>Insurgent</td>\n",
       "        <td>Aaron Brewstar</td>\n",
       "    </tr>\n",
       "    <tr>\n",
       "        <td>Max</td>\n",
       "        <td>Aaron Dozzi</td>\n",
       "    </tr>\n",
       "    <tr>\n",
       "        <td>Ted 2</td>\n",
       "        <td>Aaron F. Randell</td>\n",
       "    </tr>\n",
       "    <tr>\n",
       "        <td>Avengers: Age of Ultron</td>\n",
       "        <td>Aaron Himelstein</td>\n",
       "    </tr>\n",
       "    <tr>\n",
       "        <td>The Night Before (II)</td>\n",
       "        <td>Aaron (II) Hill</td>\n",
       "    </tr>\n",
       "    <tr>\n",
       "        <td>Star Wars: Episode VII - The Force Awakens</td>\n",
       "        <td>Aaron (IV) Kennedy</td>\n",
       "    </tr>\n",
       "</table>"
      ],
      "text/plain": [
       "[('Southpaw', '50 Cent'),\n",
       " ('Spy', '50 Cent'),\n",
       " ('Pitch Perfect 2', 'Aakomon Jones'),\n",
       " ('Pan', 'Aaran Mitra'),\n",
       " ('Insurgent', 'Aaron Brewstar'),\n",
       " ('Max', 'Aaron Dozzi'),\n",
       " ('Ted 2', 'Aaron F. Randell'),\n",
       " ('Avengers: Age of Ultron', 'Aaron Himelstein'),\n",
       " ('The Night Before (II)', 'Aaron (II) Hill'),\n",
       " ('Star Wars: Episode VII - The Force Awakens', 'Aaron (IV) Kennedy')]"
      ]
     },
     "execution_count": 11,
     "metadata": {},
     "output_type": "execute_result"
    }
   ],
   "source": [
    "%%sql\n",
    "\n",
    "SELECT title, name\n",
    "FROM moviecast NATURAL JOIN release_date\n",
    "WHERE type = 'actor' AND year = 2015 AND country = 'Norway'\n",
    "ORDER BY name\n",
    "LIMIT 10;"
   ]
  },
  {
   "cell_type": "markdown",
   "metadata": {},
   "source": [
    "# Questions Start Here"
   ]
  },
  {
   "cell_type": "markdown",
   "metadata": {},
   "source": [
    "### 1. Display the title and the name where the lead actor name and character name are the same for movies cast in 2007."
   ]
  },
  {
   "cell_type": "code",
   "execution_count": 12,
   "metadata": {
    "deletable": false,
    "nbgrader": {
     "checksum": "ec4533b122d0ca0b9af3eb77d3a4c6ff",
     "grade": false,
     "grade_id": "mov1a1",
     "locked": false,
     "schema_version": 1,
     "solution": true
    }
   },
   "outputs": [
    {
     "data": {
      "text/html": [
       "<div>\n",
       "<style>\n",
       "    .dataframe thead tr:only-child th {\n",
       "        text-align: right;\n",
       "    }\n",
       "\n",
       "    .dataframe thead th {\n",
       "        text-align: left;\n",
       "    }\n",
       "\n",
       "    .dataframe tbody tr th {\n",
       "        vertical-align: top;\n",
       "    }\n",
       "</style>\n",
       "<table border=\"1\" class=\"dataframe\">\n",
       "  <thead>\n",
       "    <tr style=\"text-align: right;\">\n",
       "      <th></th>\n",
       "      <th>title</th>\n",
       "      <th>name</th>\n",
       "    </tr>\n",
       "  </thead>\n",
       "  <tbody>\n",
       "    <tr>\n",
       "      <th>0</th>\n",
       "      <td>Maharadhi</td>\n",
       "      <td>Balakrishna</td>\n",
       "    </tr>\n",
       "    <tr>\n",
       "      <th>1</th>\n",
       "      <td>Good Luck with That</td>\n",
       "      <td>Igor Breakenback</td>\n",
       "    </tr>\n",
       "    <tr>\n",
       "      <th>2</th>\n",
       "      <td>My Name Is Bruce</td>\n",
       "      <td>Bruce Campbell</td>\n",
       "    </tr>\n",
       "    <tr>\n",
       "      <th>3</th>\n",
       "      <td>Yi daegeun, Yi daikeun</td>\n",
       "      <td>Lee Dae-Geun</td>\n",
       "    </tr>\n",
       "    <tr>\n",
       "      <th>4</th>\n",
       "      <td>The Last Lecture by Randy Pausch</td>\n",
       "      <td>Randy Pausch</td>\n",
       "    </tr>\n",
       "    <tr>\n",
       "      <th>5</th>\n",
       "      <td>The Minis</td>\n",
       "      <td>Dennis Rodman</td>\n",
       "    </tr>\n",
       "  </tbody>\n",
       "</table>\n",
       "</div>"
      ],
      "text/plain": [
       "                              title              name\n",
       "0                         Maharadhi       Balakrishna\n",
       "1               Good Luck with That  Igor Breakenback\n",
       "2                  My Name Is Bruce    Bruce Campbell\n",
       "3            Yi daegeun, Yi daikeun      Lee Dae-Geun\n",
       "4  The Last Lecture by Randy Pausch      Randy Pausch\n",
       "5                         The Minis     Dennis Rodman"
      ]
     },
     "execution_count": 12,
     "metadata": {},
     "output_type": "execute_result"
    }
   ],
   "source": [
    "cast.query('type == \"actor\" & year == 2007 & name == character & n==1').njoin(title).project(['title', 'name'])"
   ]
  },
  {
   "cell_type": "code",
   "execution_count": 13,
   "metadata": {
    "deletable": false,
    "editable": false,
    "nbgrader": {
     "checksum": "684aefa3add0362b6c4b272c7785f6c5",
     "grade": true,
     "grade_id": "mov1t1",
     "locked": true,
     "points": 2,
     "schema_version": 1,
     "solution": false
    }
   },
   "outputs": [
    {
     "name": "stdout",
     "output_type": "stream",
     "text": [
      "Correct!\n"
     ]
    }
   ],
   "source": [
    "\n",
    "checker_1R(release_date,cast,_)\n",
    "\n"
   ]
  },
  {
   "cell_type": "code",
   "execution_count": 14,
   "metadata": {
    "deletable": false,
    "nbgrader": {
     "checksum": "52b397025e3c29fcea581210a9251e8f",
     "grade": false,
     "grade_id": "mov1a2",
     "locked": false,
     "schema_version": 1,
     "solution": true
    }
   },
   "outputs": [
    {
     "name": "stdout",
     "output_type": "stream",
     "text": [
      "6 rows affected.\n"
     ]
    },
    {
     "data": {
      "text/html": [
       "<table>\n",
       "    <tr>\n",
       "        <th>title</th>\n",
       "        <th>name</th>\n",
       "    </tr>\n",
       "    <tr>\n",
       "        <td>Maharadhi</td>\n",
       "        <td>Balakrishna</td>\n",
       "    </tr>\n",
       "    <tr>\n",
       "        <td>Good Luck with That</td>\n",
       "        <td>Igor Breakenback</td>\n",
       "    </tr>\n",
       "    <tr>\n",
       "        <td>My Name Is Bruce</td>\n",
       "        <td>Bruce Campbell</td>\n",
       "    </tr>\n",
       "    <tr>\n",
       "        <td>Yi daegeun, Yi daikeun</td>\n",
       "        <td>Lee Dae-Geun</td>\n",
       "    </tr>\n",
       "    <tr>\n",
       "        <td>The Last Lecture by Randy Pausch</td>\n",
       "        <td>Randy Pausch</td>\n",
       "    </tr>\n",
       "    <tr>\n",
       "        <td>The Minis</td>\n",
       "        <td>Dennis Rodman</td>\n",
       "    </tr>\n",
       "</table>"
      ],
      "text/plain": [
       "[('Maharadhi', 'Balakrishna'),\n",
       " ('Good Luck with That', 'Igor Breakenback'),\n",
       " ('My Name Is Bruce', 'Bruce Campbell'),\n",
       " ('Yi daegeun, Yi daikeun', 'Lee Dae-Geun'),\n",
       " ('The Last Lecture by Randy Pausch', 'Randy Pausch'),\n",
       " ('The Minis', 'Dennis Rodman')]"
      ]
     },
     "execution_count": 14,
     "metadata": {},
     "output_type": "execute_result"
    }
   ],
   "source": [
    "%%sql\n",
    "SELECT title,name\n",
    "FROM moviecast\n",
    "WHERE year = 2007 and n = 1 and name = character;"
   ]
  },
  {
   "cell_type": "code",
   "execution_count": 15,
   "metadata": {
    "deletable": false,
    "editable": false,
    "nbgrader": {
     "checksum": "4d1044bd3571825fae49d0bd5197663b",
     "grade": true,
     "grade_id": "mov2a",
     "locked": true,
     "points": 2,
     "schema_version": 1,
     "solution": false
    }
   },
   "outputs": [
    {
     "name": "stdout",
     "output_type": "stream",
     "text": [
      "Correct!\n"
     ]
    }
   ],
   "source": [
    "\n",
    "checker_1S(_)"
   ]
  },
  {
   "cell_type": "markdown",
   "metadata": {},
   "source": [
    "### 2. What are the ten most common movie character names between 1990 and 2010 from most common to least? Include the counts."
   ]
  },
  {
   "cell_type": "code",
   "execution_count": 16,
   "metadata": {
    "deletable": false,
    "nbgrader": {
     "checksum": "6680c5c97a28fc3467c4da829bd38dee",
     "grade": false,
     "grade_id": "mov2a1",
     "locked": false,
     "schema_version": 1,
     "solution": true
    }
   },
   "outputs": [
    {
     "data": {
      "text/html": [
       "<div>\n",
       "<style>\n",
       "    .dataframe thead tr:only-child th {\n",
       "        text-align: right;\n",
       "    }\n",
       "\n",
       "    .dataframe thead th {\n",
       "        text-align: left;\n",
       "    }\n",
       "\n",
       "    .dataframe tbody tr th {\n",
       "        vertical-align: top;\n",
       "    }\n",
       "</style>\n",
       "<table border=\"1\" class=\"dataframe\">\n",
       "  <thead>\n",
       "    <tr style=\"text-align: right;\">\n",
       "      <th></th>\n",
       "      <th>character</th>\n",
       "      <th>count_year</th>\n",
       "    </tr>\n",
       "  </thead>\n",
       "  <tbody>\n",
       "    <tr>\n",
       "      <th>192579</th>\n",
       "      <td>Himself</td>\n",
       "      <td>7212</td>\n",
       "    </tr>\n",
       "    <tr>\n",
       "      <th>101918</th>\n",
       "      <td>Dancer</td>\n",
       "      <td>3585</td>\n",
       "    </tr>\n",
       "    <tr>\n",
       "      <th>143867</th>\n",
       "      <td>Extra</td>\n",
       "      <td>2655</td>\n",
       "    </tr>\n",
       "    <tr>\n",
       "      <th>434895</th>\n",
       "      <td>Student</td>\n",
       "      <td>2401</td>\n",
       "    </tr>\n",
       "    <tr>\n",
       "      <th>117721</th>\n",
       "      <td>Doctor</td>\n",
       "      <td>2057</td>\n",
       "    </tr>\n",
       "    <tr>\n",
       "      <th>39892</th>\n",
       "      <td>Bartender</td>\n",
       "      <td>2051</td>\n",
       "    </tr>\n",
       "    <tr>\n",
       "      <th>191235</th>\n",
       "      <td>Herself</td>\n",
       "      <td>2049</td>\n",
       "    </tr>\n",
       "    <tr>\n",
       "      <th>336612</th>\n",
       "      <td>Nurse</td>\n",
       "      <td>2023</td>\n",
       "    </tr>\n",
       "    <tr>\n",
       "      <th>384757</th>\n",
       "      <td>Reporter</td>\n",
       "      <td>1963</td>\n",
       "    </tr>\n",
       "    <tr>\n",
       "      <th>480353</th>\n",
       "      <td>Waitress</td>\n",
       "      <td>1760</td>\n",
       "    </tr>\n",
       "  </tbody>\n",
       "</table>\n",
       "</div>"
      ],
      "text/plain": [
       "        character  count_year\n",
       "192579    Himself        7212\n",
       "101918     Dancer        3585\n",
       "143867      Extra        2655\n",
       "434895    Student        2401\n",
       "117721     Doctor        2057\n",
       "39892   Bartender        2051\n",
       "191235    Herself        2049\n",
       "336612      Nurse        2023\n",
       "384757   Reporter        1963\n",
       "480353   Waitress        1760"
      ]
     },
     "execution_count": 16,
     "metadata": {},
     "output_type": "execute_result"
    }
   ],
   "source": [
    "cast.query('year> 1990 & year < 2010').groupby(['character']).count('year').project(['character', 'count_year']).sort(['count_year'],ascending=False).head(10)"
   ]
  },
  {
   "cell_type": "code",
   "execution_count": 17,
   "metadata": {
    "deletable": false,
    "editable": false,
    "nbgrader": {
     "checksum": "bfdf81a11d4fb4afec50dbeb6e57561b",
     "grade": true,
     "grade_id": "mov2t1",
     "locked": true,
     "points": 2,
     "schema_version": 1,
     "solution": false
    }
   },
   "outputs": [
    {
     "name": "stdout",
     "output_type": "stream",
     "text": [
      "Error! Did you name the columns correctly?\n",
      "Columns' names expected: character, count_name.\n"
     ]
    },
    {
     "ename": "AssertionError",
     "evalue": "",
     "output_type": "error",
     "traceback": [
      "\u001b[0;31m---------------------------------------------------------------------------\u001b[0m",
      "\u001b[0;31mAssertionError\u001b[0m                            Traceback (most recent call last)",
      "\u001b[0;32m<ipython-input-17-0f473a4af37f>\u001b[0m in \u001b[0;36m<module>\u001b[0;34m()\u001b[0m\n\u001b[0;32m----> 1\u001b[0;31m \u001b[0mchecker_2R\u001b[0m\u001b[0;34m(\u001b[0m\u001b[0mrelease_date\u001b[0m\u001b[0;34m,\u001b[0m\u001b[0mcast\u001b[0m\u001b[0;34m,\u001b[0m\u001b[0m_\u001b[0m\u001b[0;34m)\u001b[0m\u001b[0;34m\u001b[0m\u001b[0m\n\u001b[0m",
      "\u001b[0;32m/usr/local/lib/python3.5/site-packages/sols4.pyc\u001b[0m in \u001b[0;36mchecker_2R\u001b[0;34m(release_date, moviecast, got)\u001b[0m\n",
      "\u001b[0;32m/usr/local/lib/python3.5/site-packages/sols4.pyc\u001b[0m in \u001b[0;36mcheckRA\u001b[0;34m(result, query)\u001b[0m\n",
      "\u001b[0;32m/usr/local/lib/python3.5/site-packages/sols4.pyc\u001b[0m in \u001b[0;36mcolNameCheck\u001b[0;34m(result, query)\u001b[0m\n",
      "\u001b[0;31mAssertionError\u001b[0m: "
     ]
    }
   ],
   "source": [
    "checker_2R(release_date,cast,_)"
   ]
  },
  {
   "cell_type": "code",
   "execution_count": 18,
   "metadata": {
    "deletable": false,
    "nbgrader": {
     "checksum": "da1e6cc609c039577c627cca91d97f72",
     "grade": false,
     "grade_id": "mov2a2",
     "locked": false,
     "schema_version": 1,
     "solution": true
    }
   },
   "outputs": [
    {
     "name": "stdout",
     "output_type": "stream",
     "text": [
      "10 rows affected.\n"
     ]
    },
    {
     "data": {
      "text/html": [
       "<table>\n",
       "    <tr>\n",
       "        <th>character</th>\n",
       "        <th>count</th>\n",
       "    </tr>\n",
       "    <tr>\n",
       "        <td>Himself</td>\n",
       "        <td>7212</td>\n",
       "    </tr>\n",
       "    <tr>\n",
       "        <td>Dancer</td>\n",
       "        <td>3585</td>\n",
       "    </tr>\n",
       "    <tr>\n",
       "        <td>Extra</td>\n",
       "        <td>2655</td>\n",
       "    </tr>\n",
       "    <tr>\n",
       "        <td>Student</td>\n",
       "        <td>2401</td>\n",
       "    </tr>\n",
       "    <tr>\n",
       "        <td>Doctor</td>\n",
       "        <td>2057</td>\n",
       "    </tr>\n",
       "    <tr>\n",
       "        <td>Bartender</td>\n",
       "        <td>2051</td>\n",
       "    </tr>\n",
       "    <tr>\n",
       "        <td>Herself</td>\n",
       "        <td>2049</td>\n",
       "    </tr>\n",
       "    <tr>\n",
       "        <td>Nurse</td>\n",
       "        <td>2023</td>\n",
       "    </tr>\n",
       "    <tr>\n",
       "        <td>Reporter</td>\n",
       "        <td>1963</td>\n",
       "    </tr>\n",
       "    <tr>\n",
       "        <td>Waitress</td>\n",
       "        <td>1760</td>\n",
       "    </tr>\n",
       "</table>"
      ],
      "text/plain": [
       "[('Himself', 7212),\n",
       " ('Dancer', 3585),\n",
       " ('Extra', 2655),\n",
       " ('Student', 2401),\n",
       " ('Doctor', 2057),\n",
       " ('Bartender', 2051),\n",
       " ('Herself', 2049),\n",
       " ('Nurse', 2023),\n",
       " ('Reporter', 1963),\n",
       " ('Waitress', 1760)]"
      ]
     },
     "execution_count": 18,
     "metadata": {},
     "output_type": "execute_result"
    }
   ],
   "source": [
    "%%sql\n",
    "SELECT character, count(year)\n",
    "FROM moviecast\n",
    "WHERE year > 1990 and year < 2010\n",
    "GROUP BY character\n",
    "ORDER BY count(year) DESC\n",
    "LIMIT 10;"
   ]
  },
  {
   "cell_type": "code",
   "execution_count": null,
   "metadata": {
    "deletable": false,
    "editable": false,
    "nbgrader": {
     "checksum": "43d6c718d98c572e6b91ef455bc5f340",
     "grade": true,
     "grade_id": "mov2t2",
     "locked": true,
     "points": 2,
     "schema_version": 1,
     "solution": false
    }
   },
   "outputs": [],
   "source": [
    "checker_2S(_)"
   ]
  },
  {
   "cell_type": "markdown",
   "metadata": {},
   "source": [
    "### 3. List the name of each actress that has played the role of Stella more than once. Include the count column.\n"
   ]
  },
  {
   "cell_type": "code",
   "execution_count": 19,
   "metadata": {
    "deletable": false,
    "nbgrader": {
     "checksum": "ffb5c56ed888e324a787689cb7eea2d5",
     "grade": false,
     "grade_id": "mov3a1",
     "locked": false,
     "schema_version": 1,
     "solution": true
    }
   },
   "outputs": [
    {
     "data": {
      "text/html": [
       "<div>\n",
       "<style>\n",
       "    .dataframe thead tr:only-child th {\n",
       "        text-align: right;\n",
       "    }\n",
       "\n",
       "    .dataframe thead th {\n",
       "        text-align: left;\n",
       "    }\n",
       "\n",
       "    .dataframe tbody tr th {\n",
       "        vertical-align: top;\n",
       "    }\n",
       "</style>\n",
       "<table border=\"1\" class=\"dataframe\">\n",
       "  <thead>\n",
       "    <tr style=\"text-align: right;\">\n",
       "      <th></th>\n",
       "      <th>name</th>\n",
       "      <th>count_year</th>\n",
       "    </tr>\n",
       "  </thead>\n",
       "  <tbody>\n",
       "    <tr>\n",
       "      <th>2</th>\n",
       "      <td>Abi Burgess</td>\n",
       "      <td>2</td>\n",
       "    </tr>\n",
       "    <tr>\n",
       "      <th>20</th>\n",
       "      <td>Amy Gross</td>\n",
       "      <td>2</td>\n",
       "    </tr>\n",
       "    <tr>\n",
       "      <th>121</th>\n",
       "      <td>Elise Vargas</td>\n",
       "      <td>2</td>\n",
       "    </tr>\n",
       "    <tr>\n",
       "      <th>324</th>\n",
       "      <td>Martina Tremante</td>\n",
       "      <td>2</td>\n",
       "    </tr>\n",
       "    <tr>\n",
       "      <th>327</th>\n",
       "      <td>Mary Wickes</td>\n",
       "      <td>3</td>\n",
       "    </tr>\n",
       "    <tr>\n",
       "      <th>366</th>\n",
       "      <td>Ophelia Shtruhl</td>\n",
       "      <td>2</td>\n",
       "    </tr>\n",
       "    <tr>\n",
       "      <th>383</th>\n",
       "      <td>Perla Liberatori</td>\n",
       "      <td>3</td>\n",
       "    </tr>\n",
       "    <tr>\n",
       "      <th>427</th>\n",
       "      <td>Sandra Loncaric</td>\n",
       "      <td>2</td>\n",
       "    </tr>\n",
       "    <tr>\n",
       "      <th>440</th>\n",
       "      <td>Sina Tkotsch</td>\n",
       "      <td>2</td>\n",
       "    </tr>\n",
       "    <tr>\n",
       "      <th>473</th>\n",
       "      <td>Suzanne Gonzales</td>\n",
       "      <td>2</td>\n",
       "    </tr>\n",
       "    <tr>\n",
       "      <th>511</th>\n",
       "      <td>Zoey Vargas</td>\n",
       "      <td>2</td>\n",
       "    </tr>\n",
       "  </tbody>\n",
       "</table>\n",
       "</div>"
      ],
      "text/plain": [
       "                 name  count_year\n",
       "2         Abi Burgess           2\n",
       "20          Amy Gross           2\n",
       "121      Elise Vargas           2\n",
       "324  Martina Tremante           2\n",
       "327       Mary Wickes           3\n",
       "366   Ophelia Shtruhl           2\n",
       "383  Perla Liberatori           3\n",
       "427   Sandra Loncaric           2\n",
       "440      Sina Tkotsch           2\n",
       "473  Suzanne Gonzales           2\n",
       "511       Zoey Vargas           2"
      ]
     },
     "execution_count": 19,
     "metadata": {},
     "output_type": "execute_result"
    }
   ],
   "source": [
    "cast.query('type == \"actress\" & character == \"Stella\"').groupby(['name']).count('year').query('count_year > 1').project(['name','count_year'])"
   ]
  },
  {
   "cell_type": "code",
   "execution_count": null,
   "metadata": {
    "deletable": false,
    "editable": false,
    "nbgrader": {
     "checksum": "d95577f3d93c8b3d940eb43657eb9659",
     "grade": true,
     "grade_id": "mov3t1",
     "locked": true,
     "points": 2,
     "schema_version": 1,
     "solution": false
    }
   },
   "outputs": [],
   "source": [
    "checker_3R(release_date,cast,_)"
   ]
  },
  {
   "cell_type": "code",
   "execution_count": 20,
   "metadata": {
    "deletable": false,
    "nbgrader": {
     "checksum": "1de906dc569aff78b133c08637d3fa72",
     "grade": false,
     "grade_id": "mov3a2",
     "locked": false,
     "schema_version": 1,
     "solution": true
    }
   },
   "outputs": [
    {
     "name": "stdout",
     "output_type": "stream",
     "text": [
      "11 rows affected.\n"
     ]
    },
    {
     "data": {
      "text/html": [
       "<table>\n",
       "    <tr>\n",
       "        <th>name</th>\n",
       "        <th>count</th>\n",
       "    </tr>\n",
       "    <tr>\n",
       "        <td>Suzanne Gonzales</td>\n",
       "        <td>2</td>\n",
       "    </tr>\n",
       "    <tr>\n",
       "        <td>Ophelia Shtruhl</td>\n",
       "        <td>2</td>\n",
       "    </tr>\n",
       "    <tr>\n",
       "        <td>Perla Liberatori</td>\n",
       "        <td>3</td>\n",
       "    </tr>\n",
       "    <tr>\n",
       "        <td>Sina Tkotsch</td>\n",
       "        <td>2</td>\n",
       "    </tr>\n",
       "    <tr>\n",
       "        <td>Martina Tremante</td>\n",
       "        <td>2</td>\n",
       "    </tr>\n",
       "    <tr>\n",
       "        <td>Sandra Loncaric</td>\n",
       "        <td>2</td>\n",
       "    </tr>\n",
       "    <tr>\n",
       "        <td>Mary Wickes</td>\n",
       "        <td>3</td>\n",
       "    </tr>\n",
       "    <tr>\n",
       "        <td>Zoey Vargas</td>\n",
       "        <td>2</td>\n",
       "    </tr>\n",
       "    <tr>\n",
       "        <td>Elise Vargas</td>\n",
       "        <td>2</td>\n",
       "    </tr>\n",
       "    <tr>\n",
       "        <td>Abi Burgess</td>\n",
       "        <td>2</td>\n",
       "    </tr>\n",
       "    <tr>\n",
       "        <td>Amy Gross</td>\n",
       "        <td>2</td>\n",
       "    </tr>\n",
       "</table>"
      ],
      "text/plain": [
       "[('Suzanne Gonzales', 2),\n",
       " ('Ophelia Shtruhl', 2),\n",
       " ('Perla Liberatori', 3),\n",
       " ('Sina Tkotsch', 2),\n",
       " ('Martina Tremante', 2),\n",
       " ('Sandra Loncaric', 2),\n",
       " ('Mary Wickes', 3),\n",
       " ('Zoey Vargas', 2),\n",
       " ('Elise Vargas', 2),\n",
       " ('Abi Burgess', 2),\n",
       " ('Amy Gross', 2)]"
      ]
     },
     "execution_count": 20,
     "metadata": {},
     "output_type": "execute_result"
    }
   ],
   "source": [
    "%%sql\n",
    "SELECT name, count(year)\n",
    "FROM moviecast\n",
    "WHERE character = 'Stella' and type = 'actress'\n",
    "GROUP BY name\n",
    "HAVING count(year) > 1;"
   ]
  },
  {
   "cell_type": "code",
   "execution_count": null,
   "metadata": {
    "deletable": false,
    "editable": false,
    "nbgrader": {
     "checksum": "98a4f2039971cdfb92c5461e1a4b3e6f",
     "grade": true,
     "grade_id": "mov3t2",
     "locked": true,
     "points": 2,
     "schema_version": 1,
     "solution": false
    }
   },
   "outputs": [],
   "source": [
    "checker_3S(_)"
   ]
  },
  {
   "cell_type": "markdown",
   "metadata": {},
   "source": [
    "### 4. Display all information about the entire cast, in \"n\"-order, for the 2007 version of \"Sleuth\"."
   ]
  },
  {
   "cell_type": "code",
   "execution_count": 21,
   "metadata": {
    "deletable": false,
    "nbgrader": {
     "checksum": "d6af8d8cfff6a5a58c49e572dce51ec3",
     "grade": false,
     "grade_id": "mov4a1",
     "locked": false,
     "schema_version": 1,
     "solution": true
    }
   },
   "outputs": [
    {
     "data": {
      "text/html": [
       "<div>\n",
       "<style>\n",
       "    .dataframe thead tr:only-child th {\n",
       "        text-align: right;\n",
       "    }\n",
       "\n",
       "    .dataframe thead th {\n",
       "        text-align: left;\n",
       "    }\n",
       "\n",
       "    .dataframe tbody tr th {\n",
       "        vertical-align: top;\n",
       "    }\n",
       "</style>\n",
       "<table border=\"1\" class=\"dataframe\">\n",
       "  <thead>\n",
       "    <tr style=\"text-align: right;\">\n",
       "      <th></th>\n",
       "      <th>title</th>\n",
       "      <th>year</th>\n",
       "      <th>name</th>\n",
       "      <th>type</th>\n",
       "      <th>character</th>\n",
       "      <th>n</th>\n",
       "    </tr>\n",
       "  </thead>\n",
       "  <tbody>\n",
       "    <tr>\n",
       "      <th>293979</th>\n",
       "      <td>Sleuth</td>\n",
       "      <td>2007</td>\n",
       "      <td>Michael Caine</td>\n",
       "      <td>actor</td>\n",
       "      <td>Andrew</td>\n",
       "      <td>1.0</td>\n",
       "    </tr>\n",
       "    <tr>\n",
       "      <th>1168226</th>\n",
       "      <td>Sleuth</td>\n",
       "      <td>2007</td>\n",
       "      <td>Jude Law</td>\n",
       "      <td>actor</td>\n",
       "      <td>Milo</td>\n",
       "      <td>2.0</td>\n",
       "    </tr>\n",
       "    <tr>\n",
       "      <th>1631579</th>\n",
       "      <td>Sleuth</td>\n",
       "      <td>2007</td>\n",
       "      <td>Harold Pinter</td>\n",
       "      <td>actor</td>\n",
       "      <td>Man on T.V.</td>\n",
       "      <td>3.0</td>\n",
       "    </tr>\n",
       "    <tr>\n",
       "      <th>233198</th>\n",
       "      <td>Sleuth</td>\n",
       "      <td>2007</td>\n",
       "      <td>Kenneth Branagh</td>\n",
       "      <td>actor</td>\n",
       "      <td>Other Man on T.V.</td>\n",
       "      <td>NaN</td>\n",
       "    </tr>\n",
       "    <tr>\n",
       "      <th>336873</th>\n",
       "      <td>Sleuth</td>\n",
       "      <td>2007</td>\n",
       "      <td>Alec (II) Cawthorne</td>\n",
       "      <td>actor</td>\n",
       "      <td>Inspector Doppler</td>\n",
       "      <td>NaN</td>\n",
       "    </tr>\n",
       "    <tr>\n",
       "      <th>2452309</th>\n",
       "      <td>Sleuth</td>\n",
       "      <td>2007</td>\n",
       "      <td>Eve (II) Channing</td>\n",
       "      <td>actress</td>\n",
       "      <td>Marguerite Wyke</td>\n",
       "      <td>NaN</td>\n",
       "    </tr>\n",
       "    <tr>\n",
       "      <th>3015769</th>\n",
       "      <td>Sleuth</td>\n",
       "      <td>2007</td>\n",
       "      <td>Carmel O'Sullivan</td>\n",
       "      <td>actress</td>\n",
       "      <td>Maggie</td>\n",
       "      <td>NaN</td>\n",
       "    </tr>\n",
       "  </tbody>\n",
       "</table>\n",
       "</div>"
      ],
      "text/plain": [
       "          title  year                 name     type          character    n\n",
       "293979   Sleuth  2007        Michael Caine    actor             Andrew  1.0\n",
       "1168226  Sleuth  2007             Jude Law    actor               Milo  2.0\n",
       "1631579  Sleuth  2007        Harold Pinter    actor        Man on T.V.  3.0\n",
       "233198   Sleuth  2007      Kenneth Branagh    actor  Other Man on T.V.  NaN\n",
       "336873   Sleuth  2007  Alec (II) Cawthorne    actor  Inspector Doppler  NaN\n",
       "2452309  Sleuth  2007    Eve (II) Channing  actress    Marguerite Wyke  NaN\n",
       "3015769  Sleuth  2007    Carmel O'Sullivan  actress             Maggie  NaN"
      ]
     },
     "execution_count": 21,
     "metadata": {},
     "output_type": "execute_result"
    }
   ],
   "source": [
    "cast.query('year == 2007 & title == \"Sleuth\"').sort(['n'])"
   ]
  },
  {
   "cell_type": "code",
   "execution_count": null,
   "metadata": {
    "deletable": false,
    "editable": false,
    "nbgrader": {
     "checksum": "459673c6ba767499364d4552c1287cd1",
     "grade": true,
     "grade_id": "mov4t1",
     "locked": true,
     "points": 2,
     "schema_version": 1,
     "solution": false
    }
   },
   "outputs": [],
   "source": [
    "checker_4R(release_date,cast,_)"
   ]
  },
  {
   "cell_type": "code",
   "execution_count": 22,
   "metadata": {
    "deletable": false,
    "nbgrader": {
     "checksum": "dc98f76ce74a73b245b4644c95b0d7b4",
     "grade": false,
     "grade_id": "mov4a2",
     "locked": false,
     "schema_version": 1,
     "solution": true
    }
   },
   "outputs": [
    {
     "name": "stdout",
     "output_type": "stream",
     "text": [
      "7 rows affected.\n"
     ]
    },
    {
     "data": {
      "text/html": [
       "<table>\n",
       "    <tr>\n",
       "        <th>index</th>\n",
       "        <th>title</th>\n",
       "        <th>year</th>\n",
       "        <th>name</th>\n",
       "        <th>type</th>\n",
       "        <th>character</th>\n",
       "        <th>n</th>\n",
       "    </tr>\n",
       "    <tr>\n",
       "        <td>293979</td>\n",
       "        <td>Sleuth</td>\n",
       "        <td>2007</td>\n",
       "        <td>Michael Caine</td>\n",
       "        <td>actor</td>\n",
       "        <td>Andrew</td>\n",
       "        <td>1.0</td>\n",
       "    </tr>\n",
       "    <tr>\n",
       "        <td>1168226</td>\n",
       "        <td>Sleuth</td>\n",
       "        <td>2007</td>\n",
       "        <td>Jude Law</td>\n",
       "        <td>actor</td>\n",
       "        <td>Milo</td>\n",
       "        <td>2.0</td>\n",
       "    </tr>\n",
       "    <tr>\n",
       "        <td>1631579</td>\n",
       "        <td>Sleuth</td>\n",
       "        <td>2007</td>\n",
       "        <td>Harold Pinter</td>\n",
       "        <td>actor</td>\n",
       "        <td>Man on T.V.</td>\n",
       "        <td>3.0</td>\n",
       "    </tr>\n",
       "    <tr>\n",
       "        <td>336873</td>\n",
       "        <td>Sleuth</td>\n",
       "        <td>2007</td>\n",
       "        <td>Alec (II) Cawthorne</td>\n",
       "        <td>actor</td>\n",
       "        <td>Inspector Doppler</td>\n",
       "        <td>None</td>\n",
       "    </tr>\n",
       "    <tr>\n",
       "        <td>233198</td>\n",
       "        <td>Sleuth</td>\n",
       "        <td>2007</td>\n",
       "        <td>Kenneth Branagh</td>\n",
       "        <td>actor</td>\n",
       "        <td>Other Man on T.V.</td>\n",
       "        <td>None</td>\n",
       "    </tr>\n",
       "    <tr>\n",
       "        <td>2452309</td>\n",
       "        <td>Sleuth</td>\n",
       "        <td>2007</td>\n",
       "        <td>Eve (II) Channing</td>\n",
       "        <td>actress</td>\n",
       "        <td>Marguerite Wyke</td>\n",
       "        <td>None</td>\n",
       "    </tr>\n",
       "    <tr>\n",
       "        <td>3015769</td>\n",
       "        <td>Sleuth</td>\n",
       "        <td>2007</td>\n",
       "        <td>Carmel O&#x27;Sullivan</td>\n",
       "        <td>actress</td>\n",
       "        <td>Maggie</td>\n",
       "        <td>None</td>\n",
       "    </tr>\n",
       "</table>"
      ],
      "text/plain": [
       "[(293979, 'Sleuth', 2007, 'Michael Caine', 'actor', 'Andrew', 1.0),\n",
       " (1168226, 'Sleuth', 2007, 'Jude Law', 'actor', 'Milo', 2.0),\n",
       " (1631579, 'Sleuth', 2007, 'Harold Pinter', 'actor', 'Man on T.V.', 3.0),\n",
       " (336873, 'Sleuth', 2007, 'Alec (II) Cawthorne', 'actor', 'Inspector Doppler', None),\n",
       " (233198, 'Sleuth', 2007, 'Kenneth Branagh', 'actor', 'Other Man on T.V.', None),\n",
       " (2452309, 'Sleuth', 2007, 'Eve (II) Channing', 'actress', 'Marguerite Wyke', None),\n",
       " (3015769, 'Sleuth', 2007, \"Carmel O'Sullivan\", 'actress', 'Maggie', None)]"
      ]
     },
     "execution_count": 22,
     "metadata": {},
     "output_type": "execute_result"
    }
   ],
   "source": [
    "%%sql\n",
    "SELECT *\n",
    "FROM moviecast\n",
    "WHERE year = 2007 and title = 'Sleuth'\n",
    "ORDER BY n;"
   ]
  },
  {
   "cell_type": "code",
   "execution_count": null,
   "metadata": {
    "deletable": false,
    "editable": false,
    "nbgrader": {
     "checksum": "3356ad1827d2d33cb9491a11500c655e",
     "grade": true,
     "grade_id": "mov4t2",
     "locked": true,
     "points": 2,
     "schema_version": 1,
     "solution": false
    }
   },
   "outputs": [],
   "source": [
    "checker_4S(_)"
   ]
  },
  {
   "cell_type": "markdown",
   "metadata": {},
   "source": [
    "### 5. Display the number of roles available to actors for each year starting from the year 2000 up to and not including 2015. Ordered by year from highest to lowest."
   ]
  },
  {
   "cell_type": "code",
   "execution_count": 24,
   "metadata": {
    "deletable": false,
    "nbgrader": {
     "checksum": "c576cbe74f0659267183e541dc5d9de3",
     "grade": false,
     "grade_id": "mov5a1",
     "locked": false,
     "schema_version": 1,
     "solution": true
    }
   },
   "outputs": [
    {
     "data": {
      "text/html": [
       "<div>\n",
       "<style>\n",
       "    .dataframe thead tr:only-child th {\n",
       "        text-align: right;\n",
       "    }\n",
       "\n",
       "    .dataframe thead th {\n",
       "        text-align: left;\n",
       "    }\n",
       "\n",
       "    .dataframe tbody tr th {\n",
       "        vertical-align: top;\n",
       "    }\n",
       "</style>\n",
       "<table border=\"1\" class=\"dataframe\">\n",
       "  <thead>\n",
       "    <tr style=\"text-align: right;\">\n",
       "      <th></th>\n",
       "      <th>year</th>\n",
       "      <th>count_name</th>\n",
       "    </tr>\n",
       "  </thead>\n",
       "  <tbody>\n",
       "    <tr>\n",
       "      <th>14</th>\n",
       "      <td>2014</td>\n",
       "      <td>92156</td>\n",
       "    </tr>\n",
       "    <tr>\n",
       "      <th>13</th>\n",
       "      <td>2013</td>\n",
       "      <td>87427</td>\n",
       "    </tr>\n",
       "    <tr>\n",
       "      <th>12</th>\n",
       "      <td>2012</td>\n",
       "      <td>83934</td>\n",
       "    </tr>\n",
       "    <tr>\n",
       "      <th>11</th>\n",
       "      <td>2011</td>\n",
       "      <td>79676</td>\n",
       "    </tr>\n",
       "    <tr>\n",
       "      <th>10</th>\n",
       "      <td>2010</td>\n",
       "      <td>73065</td>\n",
       "    </tr>\n",
       "    <tr>\n",
       "      <th>9</th>\n",
       "      <td>2009</td>\n",
       "      <td>74747</td>\n",
       "    </tr>\n",
       "    <tr>\n",
       "      <th>8</th>\n",
       "      <td>2008</td>\n",
       "      <td>63001</td>\n",
       "    </tr>\n",
       "    <tr>\n",
       "      <th>7</th>\n",
       "      <td>2007</td>\n",
       "      <td>56463</td>\n",
       "    </tr>\n",
       "    <tr>\n",
       "      <th>6</th>\n",
       "      <td>2006</td>\n",
       "      <td>54188</td>\n",
       "    </tr>\n",
       "    <tr>\n",
       "      <th>5</th>\n",
       "      <td>2005</td>\n",
       "      <td>47856</td>\n",
       "    </tr>\n",
       "    <tr>\n",
       "      <th>4</th>\n",
       "      <td>2004</td>\n",
       "      <td>40801</td>\n",
       "    </tr>\n",
       "    <tr>\n",
       "      <th>3</th>\n",
       "      <td>2003</td>\n",
       "      <td>37544</td>\n",
       "    </tr>\n",
       "    <tr>\n",
       "      <th>2</th>\n",
       "      <td>2002</td>\n",
       "      <td>35255</td>\n",
       "    </tr>\n",
       "    <tr>\n",
       "      <th>1</th>\n",
       "      <td>2001</td>\n",
       "      <td>34218</td>\n",
       "    </tr>\n",
       "    <tr>\n",
       "      <th>0</th>\n",
       "      <td>2000</td>\n",
       "      <td>32817</td>\n",
       "    </tr>\n",
       "  </tbody>\n",
       "</table>\n",
       "</div>"
      ],
      "text/plain": [
       "    year  count_name\n",
       "14  2014       92156\n",
       "13  2013       87427\n",
       "12  2012       83934\n",
       "11  2011       79676\n",
       "10  2010       73065\n",
       "9   2009       74747\n",
       "8   2008       63001\n",
       "7   2007       56463\n",
       "6   2006       54188\n",
       "5   2005       47856\n",
       "4   2004       40801\n",
       "3   2003       37544\n",
       "2   2002       35255\n",
       "1   2001       34218\n",
       "0   2000       32817"
      ]
     },
     "execution_count": 24,
     "metadata": {},
     "output_type": "execute_result"
    }
   ],
   "source": [
    "cast.query('type == \"actor\" & year >= 2000 & year < 2015').groupby(['year']).count('name').sort(['year'], ascending=False)"
   ]
  },
  {
   "cell_type": "code",
   "execution_count": null,
   "metadata": {
    "deletable": false,
    "editable": false,
    "nbgrader": {
     "checksum": "d220ec8b507a723dfa9c0aa198a0c8cd",
     "grade": true,
     "grade_id": "mov5t1",
     "locked": true,
     "points": 2,
     "schema_version": 1,
     "solution": false
    }
   },
   "outputs": [],
   "source": [
    "checker_5R(release_date,cast,_)"
   ]
  },
  {
   "cell_type": "code",
   "execution_count": 25,
   "metadata": {
    "deletable": false,
    "nbgrader": {
     "checksum": "38b430ac121d4471264071596127e79c",
     "grade": false,
     "grade_id": "mov5a2",
     "locked": false,
     "schema_version": 1,
     "solution": true
    }
   },
   "outputs": [
    {
     "name": "stdout",
     "output_type": "stream",
     "text": [
      "15 rows affected.\n"
     ]
    },
    {
     "data": {
      "text/html": [
       "<table>\n",
       "    <tr>\n",
       "        <th>year</th>\n",
       "        <th>count</th>\n",
       "    </tr>\n",
       "    <tr>\n",
       "        <td>2014</td>\n",
       "        <td>92157</td>\n",
       "    </tr>\n",
       "    <tr>\n",
       "        <td>2013</td>\n",
       "        <td>87428</td>\n",
       "    </tr>\n",
       "    <tr>\n",
       "        <td>2012</td>\n",
       "        <td>83936</td>\n",
       "    </tr>\n",
       "    <tr>\n",
       "        <td>2011</td>\n",
       "        <td>79679</td>\n",
       "    </tr>\n",
       "    <tr>\n",
       "        <td>2009</td>\n",
       "        <td>74748</td>\n",
       "    </tr>\n",
       "    <tr>\n",
       "        <td>2010</td>\n",
       "        <td>73065</td>\n",
       "    </tr>\n",
       "    <tr>\n",
       "        <td>2008</td>\n",
       "        <td>63001</td>\n",
       "    </tr>\n",
       "    <tr>\n",
       "        <td>2007</td>\n",
       "        <td>56464</td>\n",
       "    </tr>\n",
       "    <tr>\n",
       "        <td>2006</td>\n",
       "        <td>54188</td>\n",
       "    </tr>\n",
       "    <tr>\n",
       "        <td>2005</td>\n",
       "        <td>47857</td>\n",
       "    </tr>\n",
       "    <tr>\n",
       "        <td>2004</td>\n",
       "        <td>40801</td>\n",
       "    </tr>\n",
       "    <tr>\n",
       "        <td>2003</td>\n",
       "        <td>37544</td>\n",
       "    </tr>\n",
       "    <tr>\n",
       "        <td>2002</td>\n",
       "        <td>35255</td>\n",
       "    </tr>\n",
       "    <tr>\n",
       "        <td>2001</td>\n",
       "        <td>34218</td>\n",
       "    </tr>\n",
       "    <tr>\n",
       "        <td>2000</td>\n",
       "        <td>32818</td>\n",
       "    </tr>\n",
       "</table>"
      ],
      "text/plain": [
       "[(2014, 92157),\n",
       " (2013, 87428),\n",
       " (2012, 83936),\n",
       " (2011, 79679),\n",
       " (2009, 74748),\n",
       " (2010, 73065),\n",
       " (2008, 63001),\n",
       " (2007, 56464),\n",
       " (2006, 54188),\n",
       " (2005, 47857),\n",
       " (2004, 40801),\n",
       " (2003, 37544),\n",
       " (2002, 35255),\n",
       " (2001, 34218),\n",
       " (2000, 32818)]"
      ]
     },
     "execution_count": 25,
     "metadata": {},
     "output_type": "execute_result"
    }
   ],
   "source": [
    "%%sql\n",
    "SELECT year, count(name)\n",
    "FROM moviecast\n",
    "WHERE year>=2000 and year <2015 and type = 'actor'\n",
    "GROUP BY year\n",
    "ORDER BY count(year) DESC;"
   ]
  },
  {
   "cell_type": "code",
   "execution_count": null,
   "metadata": {
    "deletable": false,
    "editable": false,
    "nbgrader": {
     "checksum": "7c870656ec84de0a8490921dd72ca068",
     "grade": true,
     "grade_id": "mov5t2",
     "locked": true,
     "points": 2,
     "schema_version": 1,
     "solution": false
    }
   },
   "outputs": [],
   "source": [
    "checker_5S(_)"
   ]
  }
 ],
 "metadata": {
  "kernelspec": {
   "display_name": "Python 3",
   "language": "python",
   "name": "python3"
  },
  "language_info": {
   "codemirror_mode": {
    "name": "ipython",
    "version": 3
   },
   "file_extension": ".py",
   "mimetype": "text/x-python",
   "name": "python",
   "nbconvert_exporter": "python",
   "pygments_lexer": "ipython3",
   "version": "3.5.1"
  }
 },
 "nbformat": 4,
 "nbformat_minor": 1
}

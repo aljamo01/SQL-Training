{
 "cells": [
  {
   "cell_type": "markdown",
   "metadata": {},
   "source": [
    "# Join Practice\n",
    "\n",
    "We will make use of the employee database for this assignment. You will get lots of practice with joins and natural joins. You only have to provide your answer in SQL, but you may find it useful to draw out the relational algebra to help you organize your thinking.\n",
    "\n"
   ]
  },
  {
   "cell_type": "code",
   "execution_count": 2,
   "metadata": {},
   "outputs": [],
   "source": [
    "import warnings\n",
    "warnings.filterwarnings('ignore')\n",
    "from sols6 import *"
   ]
  },
  {
   "cell_type": "code",
   "execution_count": 3,
   "metadata": {},
   "outputs": [],
   "source": [
    "%load_ext sql"
   ]
  },
  {
   "cell_type": "code",
   "execution_count": 4,
   "metadata": {},
   "outputs": [
    {
     "data": {
      "text/plain": [
       "'Connected: aljamo01@employees'"
      ]
     },
     "execution_count": 4,
     "metadata": {},
     "output_type": "execute_result"
    }
   ],
   "source": [
    "%sql postgresql://aljamo01:@localhost/employees"
   ]
  },
  {
   "cell_type": "code",
   "execution_count": 5,
   "metadata": {},
   "outputs": [
    {
     "name": "stdout",
     "output_type": "stream",
     "text": [
      "1 rows affected.\n"
     ]
    },
    {
     "data": {
      "text/html": [
       "<table>\n",
       "    <tr>\n",
       "        <th>emp_no</th>\n",
       "        <th>birth_date</th>\n",
       "        <th>first_name</th>\n",
       "        <th>last_name</th>\n",
       "        <th>gender</th>\n",
       "        <th>hire_date</th>\n",
       "    </tr>\n",
       "    <tr>\n",
       "        <td>10001</td>\n",
       "        <td>1953-09-02</td>\n",
       "        <td>Georgi</td>\n",
       "        <td>Facello</td>\n",
       "        <td>M</td>\n",
       "        <td>1986-06-26</td>\n",
       "    </tr>\n",
       "</table>"
      ],
      "text/plain": [
       "[(10001, datetime.date(1953, 9, 2), 'Georgi', 'Facello', 'M', datetime.date(1986, 6, 26))]"
      ]
     },
     "execution_count": 5,
     "metadata": {},
     "output_type": "execute_result"
    }
   ],
   "source": [
    "%%sql\n",
    "SELECT *\n",
    "From employees\n",
    "LIMIT(1);"
   ]
  },
  {
   "cell_type": "code",
   "execution_count": 7,
   "metadata": {},
   "outputs": [
    {
     "name": "stdout",
     "output_type": "stream",
     "text": [
      "5 rows affected.\n"
     ]
    },
    {
     "data": {
      "text/html": [
       "<table>\n",
       "    <tr>\n",
       "        <th>emp_no</th>\n",
       "        <th>title</th>\n",
       "        <th>from_date</th>\n",
       "        <th>to_date</th>\n",
       "    </tr>\n",
       "    <tr>\n",
       "        <td>10001</td>\n",
       "        <td>Senior Engineer</td>\n",
       "        <td>1986-06-26</td>\n",
       "        <td>9999-01-01</td>\n",
       "    </tr>\n",
       "    <tr>\n",
       "        <td>10002</td>\n",
       "        <td>Staff</td>\n",
       "        <td>1996-08-03</td>\n",
       "        <td>9999-01-01</td>\n",
       "    </tr>\n",
       "    <tr>\n",
       "        <td>10003</td>\n",
       "        <td>Senior Engineer</td>\n",
       "        <td>1995-12-03</td>\n",
       "        <td>9999-01-01</td>\n",
       "    </tr>\n",
       "    <tr>\n",
       "        <td>10004</td>\n",
       "        <td>Engineer</td>\n",
       "        <td>1986-12-01</td>\n",
       "        <td>1995-12-01</td>\n",
       "    </tr>\n",
       "    <tr>\n",
       "        <td>10004</td>\n",
       "        <td>Senior Engineer</td>\n",
       "        <td>1995-12-01</td>\n",
       "        <td>9999-01-01</td>\n",
       "    </tr>\n",
       "</table>"
      ],
      "text/plain": [
       "[(10001, 'Senior Engineer', datetime.date(1986, 6, 26), datetime.date(9999, 1, 1)),\n",
       " (10002, 'Staff', datetime.date(1996, 8, 3), datetime.date(9999, 1, 1)),\n",
       " (10003, 'Senior Engineer', datetime.date(1995, 12, 3), datetime.date(9999, 1, 1)),\n",
       " (10004, 'Engineer', datetime.date(1986, 12, 1), datetime.date(1995, 12, 1)),\n",
       " (10004, 'Senior Engineer', datetime.date(1995, 12, 1), datetime.date(9999, 1, 1))]"
      ]
     },
     "execution_count": 7,
     "metadata": {},
     "output_type": "execute_result"
    }
   ],
   "source": [
    "%%sql\n",
    "SELECT *\n",
    "From titles\n",
    "LIMIT(5);"
   ]
  },
  {
   "cell_type": "code",
   "execution_count": 6,
   "metadata": {},
   "outputs": [
    {
     "name": "stdout",
     "output_type": "stream",
     "text": [
      "1 rows affected.\n"
     ]
    },
    {
     "data": {
      "text/html": [
       "<table>\n",
       "    <tr>\n",
       "        <th>emp_no</th>\n",
       "        <th>dept_no</th>\n",
       "        <th>from_date</th>\n",
       "        <th>to_date</th>\n",
       "    </tr>\n",
       "    <tr>\n",
       "        <td>10001</td>\n",
       "        <td>d005</td>\n",
       "        <td>1986-06-26</td>\n",
       "        <td>9999-01-01</td>\n",
       "    </tr>\n",
       "</table>"
      ],
      "text/plain": [
       "[(10001, 'd005', datetime.date(1986, 6, 26), datetime.date(9999, 1, 1))]"
      ]
     },
     "execution_count": 6,
     "metadata": {},
     "output_type": "execute_result"
    }
   ],
   "source": [
    "%%sql\n",
    "SELECT *\n",
    "From dept_emp\n",
    "LIMIT(1);"
   ]
  },
  {
   "cell_type": "code",
   "execution_count": 57,
   "metadata": {},
   "outputs": [
    {
     "name": "stdout",
     "output_type": "stream",
     "text": [
      "9 rows affected.\n"
     ]
    },
    {
     "data": {
      "text/html": [
       "<table>\n",
       "    <tr>\n",
       "        <th>dept_no</th>\n",
       "        <th>dept_name</th>\n",
       "    </tr>\n",
       "    <tr>\n",
       "        <td>d001</td>\n",
       "        <td>Marketing</td>\n",
       "    </tr>\n",
       "    <tr>\n",
       "        <td>d002</td>\n",
       "        <td>Finance</td>\n",
       "    </tr>\n",
       "    <tr>\n",
       "        <td>d003</td>\n",
       "        <td>Human Resources</td>\n",
       "    </tr>\n",
       "    <tr>\n",
       "        <td>d004</td>\n",
       "        <td>Production</td>\n",
       "    </tr>\n",
       "    <tr>\n",
       "        <td>d005</td>\n",
       "        <td>Development</td>\n",
       "    </tr>\n",
       "    <tr>\n",
       "        <td>d006</td>\n",
       "        <td>Quality Management</td>\n",
       "    </tr>\n",
       "    <tr>\n",
       "        <td>d007</td>\n",
       "        <td>Sales</td>\n",
       "    </tr>\n",
       "    <tr>\n",
       "        <td>d008</td>\n",
       "        <td>Research</td>\n",
       "    </tr>\n",
       "    <tr>\n",
       "        <td>d009</td>\n",
       "        <td>Customer Service</td>\n",
       "    </tr>\n",
       "</table>"
      ],
      "text/plain": [
       "[('d001', 'Marketing'),\n",
       " ('d002', 'Finance'),\n",
       " ('d003', 'Human Resources'),\n",
       " ('d004', 'Production'),\n",
       " ('d005', 'Development'),\n",
       " ('d006', 'Quality Management'),\n",
       " ('d007', 'Sales'),\n",
       " ('d008', 'Research'),\n",
       " ('d009', 'Customer Service')]"
      ]
     },
     "execution_count": 57,
     "metadata": {},
     "output_type": "execute_result"
    }
   ],
   "source": [
    "%%sql\n",
    "SELECT *\n",
    "From departments\n",
    "LIMIT(10);"
   ]
  },
  {
   "cell_type": "code",
   "execution_count": 8,
   "metadata": {},
   "outputs": [
    {
     "name": "stdout",
     "output_type": "stream",
     "text": [
      "1 rows affected.\n"
     ]
    },
    {
     "data": {
      "text/html": [
       "<table>\n",
       "    <tr>\n",
       "        <th>emp_no</th>\n",
       "        <th>dept_no</th>\n",
       "        <th>from_date</th>\n",
       "        <th>to_date</th>\n",
       "    </tr>\n",
       "    <tr>\n",
       "        <td>110022</td>\n",
       "        <td>d001</td>\n",
       "        <td>1985-01-01</td>\n",
       "        <td>1991-10-01</td>\n",
       "    </tr>\n",
       "</table>"
      ],
      "text/plain": [
       "[(110022, 'd001', datetime.date(1985, 1, 1), datetime.date(1991, 10, 1))]"
      ]
     },
     "execution_count": 8,
     "metadata": {},
     "output_type": "execute_result"
    }
   ],
   "source": [
    "%%sql\n",
    "SELECT *\n",
    "From dept_manager\n",
    "LIMIT(1);"
   ]
  },
  {
   "cell_type": "code",
   "execution_count": 9,
   "metadata": {},
   "outputs": [
    {
     "name": "stdout",
     "output_type": "stream",
     "text": [
      "1 rows affected.\n"
     ]
    },
    {
     "data": {
      "text/html": [
       "<table>\n",
       "    <tr>\n",
       "        <th>emp_no</th>\n",
       "        <th>salary</th>\n",
       "        <th>from_date</th>\n",
       "        <th>to_date</th>\n",
       "    </tr>\n",
       "    <tr>\n",
       "        <td>488137</td>\n",
       "        <td>47466</td>\n",
       "        <td>1995-09-11</td>\n",
       "        <td>1996-09-10</td>\n",
       "    </tr>\n",
       "</table>"
      ],
      "text/plain": [
       "[(488137, 47466, datetime.date(1995, 9, 11), datetime.date(1996, 9, 10))]"
      ]
     },
     "execution_count": 9,
     "metadata": {},
     "output_type": "execute_result"
    }
   ],
   "source": [
    "%%sql\n",
    "SELECT *\n",
    "From salaries\n",
    "LIMIT(1);"
   ]
  },
  {
   "cell_type": "code",
   "execution_count": 13,
   "metadata": {},
   "outputs": [
    {
     "name": "stdout",
     "output_type": "stream",
     "text": [
      "(psycopg2.ProgrammingError) syntax error at or near \"FROM\"\n",
      "LINE 2: FROM\n",
      "        ^\n",
      " [SQL: 'SELECT\\nFROM\\nWHERE']\n"
     ]
    }
   ],
   "source": [
    "%%sql\n",
    "SELECT\n",
    "FROM employees NATURAL JOIN dept_emp NATURAL JOIN departments\n",
    "WHERE\n",
    "ORDER BY"
   ]
  },
  {
   "cell_type": "code",
   "execution_count": null,
   "metadata": {},
   "outputs": [],
   "source": []
  },
  {
   "cell_type": "markdown",
   "metadata": {},
   "source": [
    "### 1. List the first and last name and hire date of each current employee in the Sales Department hired before Feb 7, 1985 ordered by hire date earliest to latest."
   ]
  },
  {
   "cell_type": "code",
   "execution_count": 58,
   "metadata": {
    "deletable": false,
    "nbgrader": {
     "checksum": "8ca4f79db4830b60e32e68f1f03fdb97",
     "grade": false,
     "grade_id": "join1_a",
     "locked": false,
     "schema_version": 1,
     "solution": true
    }
   },
   "outputs": [
    {
     "name": "stdout",
     "output_type": "stream",
     "text": [
      "55 rows affected.\n"
     ]
    },
    {
     "data": {
      "text/html": [
       "<table>\n",
       "    <tr>\n",
       "        <th>first_name</th>\n",
       "        <th>last_name</th>\n",
       "        <th>hire_date</th>\n",
       "    </tr>\n",
       "    <tr>\n",
       "        <td>Przemyslawa</td>\n",
       "        <td>Kaelbling</td>\n",
       "        <td>1985-01-01</td>\n",
       "    </tr>\n",
       "    <tr>\n",
       "        <td>Yongdong</td>\n",
       "        <td>Pileggi</td>\n",
       "        <td>1985-02-01</td>\n",
       "    </tr>\n",
       "    <tr>\n",
       "        <td>Shir</td>\n",
       "        <td>Munck</td>\n",
       "        <td>1985-02-01</td>\n",
       "    </tr>\n",
       "    <tr>\n",
       "        <td>Adil</td>\n",
       "        <td>Furedi</td>\n",
       "        <td>1985-02-01</td>\n",
       "    </tr>\n",
       "    <tr>\n",
       "        <td>Chaosheng</td>\n",
       "        <td>Sommen</td>\n",
       "        <td>1985-02-02</td>\n",
       "    </tr>\n",
       "    <tr>\n",
       "        <td>Guenter</td>\n",
       "        <td>Tanemo</td>\n",
       "        <td>1985-02-02</td>\n",
       "    </tr>\n",
       "    <tr>\n",
       "        <td>Erzsebet</td>\n",
       "        <td>Schwartzbauer</td>\n",
       "        <td>1985-02-02</td>\n",
       "    </tr>\n",
       "    <tr>\n",
       "        <td>Gay</td>\n",
       "        <td>Kumaresan</td>\n",
       "        <td>1985-02-02</td>\n",
       "    </tr>\n",
       "    <tr>\n",
       "        <td>Limsoon</td>\n",
       "        <td>Macedo</td>\n",
       "        <td>1985-02-02</td>\n",
       "    </tr>\n",
       "    <tr>\n",
       "        <td>Holgard</td>\n",
       "        <td>Pena</td>\n",
       "        <td>1985-02-02</td>\n",
       "    </tr>\n",
       "    <tr>\n",
       "        <td>Xinglin</td>\n",
       "        <td>Marakhovsky</td>\n",
       "        <td>1985-02-02</td>\n",
       "    </tr>\n",
       "    <tr>\n",
       "        <td>Kousuke</td>\n",
       "        <td>Swist</td>\n",
       "        <td>1985-02-02</td>\n",
       "    </tr>\n",
       "    <tr>\n",
       "        <td>Chikako</td>\n",
       "        <td>Malabarba</td>\n",
       "        <td>1985-02-02</td>\n",
       "    </tr>\n",
       "    <tr>\n",
       "        <td>Zita</td>\n",
       "        <td>Vural</td>\n",
       "        <td>1985-02-03</td>\n",
       "    </tr>\n",
       "    <tr>\n",
       "        <td>Fumitaka</td>\n",
       "        <td>Boyle</td>\n",
       "        <td>1985-02-03</td>\n",
       "    </tr>\n",
       "    <tr>\n",
       "        <td>Huan</td>\n",
       "        <td>Dahlbom</td>\n",
       "        <td>1985-02-03</td>\n",
       "    </tr>\n",
       "    <tr>\n",
       "        <td>Mitchel</td>\n",
       "        <td>Gustavson</td>\n",
       "        <td>1985-02-03</td>\n",
       "    </tr>\n",
       "    <tr>\n",
       "        <td>Godehard</td>\n",
       "        <td>Conte</td>\n",
       "        <td>1985-02-03</td>\n",
       "    </tr>\n",
       "    <tr>\n",
       "        <td>Premsyl</td>\n",
       "        <td>Nitto</td>\n",
       "        <td>1985-02-03</td>\n",
       "    </tr>\n",
       "    <tr>\n",
       "        <td>Halsur</td>\n",
       "        <td>Birrer</td>\n",
       "        <td>1985-02-03</td>\n",
       "    </tr>\n",
       "    <tr>\n",
       "        <td>Chiranjit</td>\n",
       "        <td>Stemann</td>\n",
       "        <td>1985-02-03</td>\n",
       "    </tr>\n",
       "    <tr>\n",
       "        <td>Nectarios</td>\n",
       "        <td>Perna</td>\n",
       "        <td>1985-02-03</td>\n",
       "    </tr>\n",
       "    <tr>\n",
       "        <td>Fumiyo</td>\n",
       "        <td>Cronau</td>\n",
       "        <td>1985-02-03</td>\n",
       "    </tr>\n",
       "    <tr>\n",
       "        <td>Shakhar</td>\n",
       "        <td>Sgarro</td>\n",
       "        <td>1985-02-03</td>\n",
       "    </tr>\n",
       "    <tr>\n",
       "        <td>Stafford</td>\n",
       "        <td>Luce</td>\n",
       "        <td>1985-02-04</td>\n",
       "    </tr>\n",
       "    <tr>\n",
       "        <td>Goa</td>\n",
       "        <td>Parfitt</td>\n",
       "        <td>1985-02-04</td>\n",
       "    </tr>\n",
       "    <tr>\n",
       "        <td>Eberhardt</td>\n",
       "        <td>Pramanik</td>\n",
       "        <td>1985-02-04</td>\n",
       "    </tr>\n",
       "    <tr>\n",
       "        <td>Khalid</td>\n",
       "        <td>Salinas</td>\n",
       "        <td>1985-02-04</td>\n",
       "    </tr>\n",
       "    <tr>\n",
       "        <td>Tran</td>\n",
       "        <td>Jiang</td>\n",
       "        <td>1985-02-04</td>\n",
       "    </tr>\n",
       "    <tr>\n",
       "        <td>Fox</td>\n",
       "        <td>Waschkowski</td>\n",
       "        <td>1985-02-04</td>\n",
       "    </tr>\n",
       "    <tr>\n",
       "        <td>Xiong</td>\n",
       "        <td>Chenoweth</td>\n",
       "        <td>1985-02-04</td>\n",
       "    </tr>\n",
       "    <tr>\n",
       "        <td>Arto</td>\n",
       "        <td>Argence</td>\n",
       "        <td>1985-02-04</td>\n",
       "    </tr>\n",
       "    <tr>\n",
       "        <td>Limsoon</td>\n",
       "        <td>Bage</td>\n",
       "        <td>1985-02-05</td>\n",
       "    </tr>\n",
       "    <tr>\n",
       "        <td>Goh</td>\n",
       "        <td>Linnainmaa</td>\n",
       "        <td>1985-02-05</td>\n",
       "    </tr>\n",
       "    <tr>\n",
       "        <td>Chiranjit</td>\n",
       "        <td>Ghelli</td>\n",
       "        <td>1985-02-05</td>\n",
       "    </tr>\n",
       "    <tr>\n",
       "        <td>Boutros</td>\n",
       "        <td>Velardi</td>\n",
       "        <td>1985-02-05</td>\n",
       "    </tr>\n",
       "    <tr>\n",
       "        <td>Gregory</td>\n",
       "        <td>Griswold</td>\n",
       "        <td>1985-02-05</td>\n",
       "    </tr>\n",
       "    <tr>\n",
       "        <td>Niteen</td>\n",
       "        <td>Matteis</td>\n",
       "        <td>1985-02-05</td>\n",
       "    </tr>\n",
       "    <tr>\n",
       "        <td>Vasilis</td>\n",
       "        <td>Pettis</td>\n",
       "        <td>1985-02-05</td>\n",
       "    </tr>\n",
       "    <tr>\n",
       "        <td>Rance</td>\n",
       "        <td>Chepyzhov</td>\n",
       "        <td>1985-02-05</td>\n",
       "    </tr>\n",
       "    <tr>\n",
       "        <td>Jaques</td>\n",
       "        <td>Hashii</td>\n",
       "        <td>1985-02-05</td>\n",
       "    </tr>\n",
       "    <tr>\n",
       "        <td>Goa</td>\n",
       "        <td>Swick</td>\n",
       "        <td>1985-02-05</td>\n",
       "    </tr>\n",
       "    <tr>\n",
       "        <td>Ramalingam</td>\n",
       "        <td>Validov</td>\n",
       "        <td>1985-02-05</td>\n",
       "    </tr>\n",
       "    <tr>\n",
       "        <td>Bedrich</td>\n",
       "        <td>Lubachevsky</td>\n",
       "        <td>1985-02-05</td>\n",
       "    </tr>\n",
       "    <tr>\n",
       "        <td>Ohad</td>\n",
       "        <td>Srimani</td>\n",
       "        <td>1985-02-05</td>\n",
       "    </tr>\n",
       "    <tr>\n",
       "        <td>Amalendu</td>\n",
       "        <td>Hiyoshi</td>\n",
       "        <td>1985-02-05</td>\n",
       "    </tr>\n",
       "    <tr>\n",
       "        <td>Nakhoon</td>\n",
       "        <td>Falby</td>\n",
       "        <td>1985-02-06</td>\n",
       "    </tr>\n",
       "    <tr>\n",
       "        <td>Adil</td>\n",
       "        <td>Uludag</td>\n",
       "        <td>1985-02-06</td>\n",
       "    </tr>\n",
       "    <tr>\n",
       "        <td>Horward</td>\n",
       "        <td>Steenbeek</td>\n",
       "        <td>1985-02-06</td>\n",
       "    </tr>\n",
       "    <tr>\n",
       "        <td>Pragnesh</td>\n",
       "        <td>Orlowska</td>\n",
       "        <td>1985-02-06</td>\n",
       "    </tr>\n",
       "    <tr>\n",
       "        <td>Xiaoqiang</td>\n",
       "        <td>Ferriere</td>\n",
       "        <td>1985-02-06</td>\n",
       "    </tr>\n",
       "    <tr>\n",
       "        <td>Noritoshi</td>\n",
       "        <td>Luff</td>\n",
       "        <td>1985-02-06</td>\n",
       "    </tr>\n",
       "    <tr>\n",
       "        <td>Hugo</td>\n",
       "        <td>Griswold</td>\n",
       "        <td>1985-02-06</td>\n",
       "    </tr>\n",
       "    <tr>\n",
       "        <td>Uriel</td>\n",
       "        <td>Daescu</td>\n",
       "        <td>1985-02-06</td>\n",
       "    </tr>\n",
       "    <tr>\n",
       "        <td>Dhritiman</td>\n",
       "        <td>Masamoto</td>\n",
       "        <td>1985-02-06</td>\n",
       "    </tr>\n",
       "</table>"
      ],
      "text/plain": [
       "[('Przemyslawa', 'Kaelbling', datetime.date(1985, 1, 1)),\n",
       " ('Yongdong', 'Pileggi', datetime.date(1985, 2, 1)),\n",
       " ('Shir', 'Munck', datetime.date(1985, 2, 1)),\n",
       " ('Adil', 'Furedi', datetime.date(1985, 2, 1)),\n",
       " ('Chaosheng', 'Sommen', datetime.date(1985, 2, 2)),\n",
       " ('Guenter', 'Tanemo', datetime.date(1985, 2, 2)),\n",
       " ('Erzsebet', 'Schwartzbauer', datetime.date(1985, 2, 2)),\n",
       " ('Gay', 'Kumaresan', datetime.date(1985, 2, 2)),\n",
       " ('Limsoon', 'Macedo', datetime.date(1985, 2, 2)),\n",
       " ('Holgard', 'Pena', datetime.date(1985, 2, 2)),\n",
       " ('Xinglin', 'Marakhovsky', datetime.date(1985, 2, 2)),\n",
       " ('Kousuke', 'Swist', datetime.date(1985, 2, 2)),\n",
       " ('Chikako', 'Malabarba', datetime.date(1985, 2, 2)),\n",
       " ('Zita', 'Vural', datetime.date(1985, 2, 3)),\n",
       " ('Fumitaka', 'Boyle', datetime.date(1985, 2, 3)),\n",
       " ('Huan', 'Dahlbom', datetime.date(1985, 2, 3)),\n",
       " ('Mitchel', 'Gustavson', datetime.date(1985, 2, 3)),\n",
       " ('Godehard', 'Conte', datetime.date(1985, 2, 3)),\n",
       " ('Premsyl', 'Nitto', datetime.date(1985, 2, 3)),\n",
       " ('Halsur', 'Birrer', datetime.date(1985, 2, 3)),\n",
       " ('Chiranjit', 'Stemann', datetime.date(1985, 2, 3)),\n",
       " ('Nectarios', 'Perna', datetime.date(1985, 2, 3)),\n",
       " ('Fumiyo', 'Cronau', datetime.date(1985, 2, 3)),\n",
       " ('Shakhar', 'Sgarro', datetime.date(1985, 2, 3)),\n",
       " ('Stafford', 'Luce', datetime.date(1985, 2, 4)),\n",
       " ('Goa', 'Parfitt', datetime.date(1985, 2, 4)),\n",
       " ('Eberhardt', 'Pramanik', datetime.date(1985, 2, 4)),\n",
       " ('Khalid', 'Salinas', datetime.date(1985, 2, 4)),\n",
       " ('Tran', 'Jiang', datetime.date(1985, 2, 4)),\n",
       " ('Fox', 'Waschkowski', datetime.date(1985, 2, 4)),\n",
       " ('Xiong', 'Chenoweth', datetime.date(1985, 2, 4)),\n",
       " ('Arto', 'Argence', datetime.date(1985, 2, 4)),\n",
       " ('Limsoon', 'Bage', datetime.date(1985, 2, 5)),\n",
       " ('Goh', 'Linnainmaa', datetime.date(1985, 2, 5)),\n",
       " ('Chiranjit', 'Ghelli', datetime.date(1985, 2, 5)),\n",
       " ('Boutros', 'Velardi', datetime.date(1985, 2, 5)),\n",
       " ('Gregory', 'Griswold', datetime.date(1985, 2, 5)),\n",
       " ('Niteen', 'Matteis', datetime.date(1985, 2, 5)),\n",
       " ('Vasilis', 'Pettis', datetime.date(1985, 2, 5)),\n",
       " ('Rance', 'Chepyzhov', datetime.date(1985, 2, 5)),\n",
       " ('Jaques', 'Hashii', datetime.date(1985, 2, 5)),\n",
       " ('Goa', 'Swick', datetime.date(1985, 2, 5)),\n",
       " ('Ramalingam', 'Validov', datetime.date(1985, 2, 5)),\n",
       " ('Bedrich', 'Lubachevsky', datetime.date(1985, 2, 5)),\n",
       " ('Ohad', 'Srimani', datetime.date(1985, 2, 5)),\n",
       " ('Amalendu', 'Hiyoshi', datetime.date(1985, 2, 5)),\n",
       " ('Nakhoon', 'Falby', datetime.date(1985, 2, 6)),\n",
       " ('Adil', 'Uludag', datetime.date(1985, 2, 6)),\n",
       " ('Horward', 'Steenbeek', datetime.date(1985, 2, 6)),\n",
       " ('Pragnesh', 'Orlowska', datetime.date(1985, 2, 6)),\n",
       " ('Xiaoqiang', 'Ferriere', datetime.date(1985, 2, 6)),\n",
       " ('Noritoshi', 'Luff', datetime.date(1985, 2, 6)),\n",
       " ('Hugo', 'Griswold', datetime.date(1985, 2, 6)),\n",
       " ('Uriel', 'Daescu', datetime.date(1985, 2, 6)),\n",
       " ('Dhritiman', 'Masamoto', datetime.date(1985, 2, 6))]"
      ]
     },
     "execution_count": 58,
     "metadata": {},
     "output_type": "execute_result"
    }
   ],
   "source": [
    "%%sql\n",
    "\n",
    "SELECT first_name, last_name, hire_date\n",
    "FROM employees NATURAL JOIN dept_emp NATURAL JOIN departments\n",
    "WHERE dept_name = 'Sales' and hire_date < '1985-02-07' and now() < to_date\n",
    "ORDER BY hire_date"
   ]
  },
  {
   "cell_type": "code",
   "execution_count": 59,
   "metadata": {
    "deletable": false,
    "editable": false,
    "nbgrader": {
     "checksum": "661e1042690adf183e747f9313143066",
     "grade": true,
     "grade_id": "join1_t",
     "locked": true,
     "points": 2,
     "schema_version": 1,
     "solution": false
    }
   },
   "outputs": [
    {
     "name": "stdout",
     "output_type": "stream",
     "text": [
      "Correct!\n"
     ]
    }
   ],
   "source": [
    "join1_test(_)"
   ]
  },
  {
   "cell_type": "markdown",
   "metadata": {},
   "source": [
    "### 2. How many employees currently work for each department (order from smallest to largest)?"
   ]
  },
  {
   "cell_type": "code",
   "execution_count": 75,
   "metadata": {
    "deletable": false,
    "nbgrader": {
     "checksum": "fbd9f979fcc42133fca6e9504319ea92",
     "grade": false,
     "grade_id": "join2_a",
     "locked": false,
     "schema_version": 1,
     "solution": true
    }
   },
   "outputs": [
    {
     "name": "stdout",
     "output_type": "stream",
     "text": [
      "9 rows affected.\n"
     ]
    },
    {
     "data": {
      "text/html": [
       "<table>\n",
       "    <tr>\n",
       "        <th>dept_name</th>\n",
       "        <th>count</th>\n",
       "    </tr>\n",
       "    <tr>\n",
       "        <td>Finance</td>\n",
       "        <td>12437</td>\n",
       "    </tr>\n",
       "    <tr>\n",
       "        <td>Human Resources</td>\n",
       "        <td>12898</td>\n",
       "    </tr>\n",
       "    <tr>\n",
       "        <td>Quality Management</td>\n",
       "        <td>14546</td>\n",
       "    </tr>\n",
       "    <tr>\n",
       "        <td>Marketing</td>\n",
       "        <td>14842</td>\n",
       "    </tr>\n",
       "    <tr>\n",
       "        <td>Research</td>\n",
       "        <td>15441</td>\n",
       "    </tr>\n",
       "    <tr>\n",
       "        <td>Customer Service</td>\n",
       "        <td>17569</td>\n",
       "    </tr>\n",
       "    <tr>\n",
       "        <td>Sales</td>\n",
       "        <td>37701</td>\n",
       "    </tr>\n",
       "    <tr>\n",
       "        <td>Production</td>\n",
       "        <td>53304</td>\n",
       "    </tr>\n",
       "    <tr>\n",
       "        <td>Development</td>\n",
       "        <td>61386</td>\n",
       "    </tr>\n",
       "</table>"
      ],
      "text/plain": [
       "[('Finance', 12437),\n",
       " ('Human Resources', 12898),\n",
       " ('Quality Management', 14546),\n",
       " ('Marketing', 14842),\n",
       " ('Research', 15441),\n",
       " ('Customer Service', 17569),\n",
       " ('Sales', 37701),\n",
       " ('Production', 53304),\n",
       " ('Development', 61386)]"
      ]
     },
     "execution_count": 75,
     "metadata": {},
     "output_type": "execute_result"
    }
   ],
   "source": [
    "%%sql\n",
    "SELECT dept_name, COUNT(*)\n",
    "FROM employees NATURAL JOIN dept_emp NATURAL JOIN departments\n",
    "WHERE now() < to_date\n",
    "GROUP BY dept_name\n",
    "ORDER BY COUNT(*);"
   ]
  },
  {
   "cell_type": "code",
   "execution_count": 63,
   "metadata": {
    "deletable": false,
    "editable": false,
    "nbgrader": {
     "checksum": "8c4aa77ebbe8f2cf1b6ef53f96174496",
     "grade": true,
     "grade_id": "join2_t",
     "locked": true,
     "points": 2,
     "schema_version": 1,
     "solution": false
    }
   },
   "outputs": [
    {
     "name": "stdout",
     "output_type": "stream",
     "text": [
      "Correct!\n"
     ]
    }
   ],
   "source": [
    "join2_test(_)"
   ]
  },
  {
   "cell_type": "markdown",
   "metadata": {},
   "source": [
    "### 3.  How many current employees no longer work for the Sales department?\n",
    "\n",
    "The answer should be a single row and column."
   ]
  },
  {
   "cell_type": "code",
   "execution_count": 87,
   "metadata": {
    "deletable": false,
    "nbgrader": {
     "checksum": "23fd65af688fd8c7de8cf537a77dc164",
     "grade": false,
     "grade_id": "join3_a",
     "locked": false,
     "schema_version": 1,
     "solution": true
    }
   },
   "outputs": [
    {
     "name": "stdout",
     "output_type": "stream",
     "text": [
      "1 rows affected.\n"
     ]
    },
    {
     "data": {
      "text/html": [
       "<table>\n",
       "    <tr>\n",
       "        <th>count</th>\n",
       "    </tr>\n",
       "    <tr>\n",
       "        <td>14544</td>\n",
       "    </tr>\n",
       "</table>"
      ],
      "text/plain": [
       "[(14544,)]"
      ]
     },
     "execution_count": 87,
     "metadata": {},
     "output_type": "execute_result"
    }
   ],
   "source": [
    "%%sql\n",
    "SELECT COUNT(*)\n",
    "FROM employees NATURAL JOIN dept_emp NATURAL JOIN departments \n",
    "WHERE dept_name = 'Sales' and now() > to_date"
   ]
  },
  {
   "cell_type": "code",
   "execution_count": 84,
   "metadata": {
    "deletable": false,
    "editable": false,
    "nbgrader": {
     "checksum": "ae21a3836153357958abc4c92bfee1d0",
     "grade": true,
     "grade_id": "join3_t",
     "locked": true,
     "points": 2,
     "schema_version": 1,
     "solution": false
    }
   },
   "outputs": [
    {
     "name": "stdout",
     "output_type": "stream",
     "text": [
      "Correct!\n"
     ]
    }
   ],
   "source": [
    "join3_test(_)"
   ]
  },
  {
   "cell_type": "markdown",
   "metadata": {},
   "source": [
    "### 4. For each deparment, of current department employees, find the hire date of the person that was most recently hired to the company."
   ]
  },
  {
   "cell_type": "code",
   "execution_count": 68,
   "metadata": {
    "deletable": false,
    "nbgrader": {
     "checksum": "62b138e2fab2d299cf3f992514e59218",
     "grade": false,
     "grade_id": "join4_a",
     "locked": false,
     "schema_version": 1,
     "solution": true
    }
   },
   "outputs": [
    {
     "name": "stdout",
     "output_type": "stream",
     "text": [
      "9 rows affected.\n"
     ]
    },
    {
     "data": {
      "text/html": [
       "<table>\n",
       "    <tr>\n",
       "        <th>dept_name</th>\n",
       "        <th>max</th>\n",
       "    </tr>\n",
       "    <tr>\n",
       "        <td>Research</td>\n",
       "        <td>1999-12-10</td>\n",
       "    </tr>\n",
       "    <tr>\n",
       "        <td>Sales</td>\n",
       "        <td>1999-12-31</td>\n",
       "    </tr>\n",
       "    <tr>\n",
       "        <td>Customer Service</td>\n",
       "        <td>1999-12-30</td>\n",
       "    </tr>\n",
       "    <tr>\n",
       "        <td>Marketing</td>\n",
       "        <td>2000-01-04</td>\n",
       "    </tr>\n",
       "    <tr>\n",
       "        <td>Human Resources</td>\n",
       "        <td>2000-01-13</td>\n",
       "    </tr>\n",
       "    <tr>\n",
       "        <td>Production</td>\n",
       "        <td>2000-01-23</td>\n",
       "    </tr>\n",
       "    <tr>\n",
       "        <td>Quality Management</td>\n",
       "        <td>1999-12-02</td>\n",
       "    </tr>\n",
       "    <tr>\n",
       "        <td>Development</td>\n",
       "        <td>2000-01-22</td>\n",
       "    </tr>\n",
       "    <tr>\n",
       "        <td>Finance</td>\n",
       "        <td>2000-01-06</td>\n",
       "    </tr>\n",
       "</table>"
      ],
      "text/plain": [
       "[('Research', datetime.date(1999, 12, 10)),\n",
       " ('Sales', datetime.date(1999, 12, 31)),\n",
       " ('Customer Service', datetime.date(1999, 12, 30)),\n",
       " ('Marketing', datetime.date(2000, 1, 4)),\n",
       " ('Human Resources', datetime.date(2000, 1, 13)),\n",
       " ('Production', datetime.date(2000, 1, 23)),\n",
       " ('Quality Management', datetime.date(1999, 12, 2)),\n",
       " ('Development', datetime.date(2000, 1, 22)),\n",
       " ('Finance', datetime.date(2000, 1, 6))]"
      ]
     },
     "execution_count": 68,
     "metadata": {},
     "output_type": "execute_result"
    }
   ],
   "source": [
    "%%sql\n",
    "SELECT dept_name, max(hire_date)\n",
    "FROM employees NATURAL JOIN dept_emp NATURAL JOIN departments\n",
    "WHERE now() < to_date\n",
    "GROUP BY dept_name"
   ]
  },
  {
   "cell_type": "code",
   "execution_count": 69,
   "metadata": {
    "deletable": false,
    "editable": false,
    "nbgrader": {
     "checksum": "db90737c7dca7897138f25450bc3f83c",
     "grade": true,
     "grade_id": "join4_t",
     "locked": true,
     "points": 2,
     "schema_version": 1,
     "solution": false
    }
   },
   "outputs": [
    {
     "name": "stdout",
     "output_type": "stream",
     "text": [
      "Correct!\n"
     ]
    }
   ],
   "source": [
    "join4_test(_)"
   ]
  },
  {
   "cell_type": "markdown",
   "metadata": {},
   "source": [
    "### 5. List names of all of the managers and their starting and ending dates who have managed the Customer Service department, order them from first to last."
   ]
  },
  {
   "cell_type": "code",
   "execution_count": 35,
   "metadata": {
    "deletable": false,
    "nbgrader": {
     "checksum": "fd151a8ec52ce6c50526fb9bad02c4ec",
     "grade": false,
     "grade_id": "join5_a",
     "locked": false,
     "schema_version": 1,
     "solution": true
    }
   },
   "outputs": [
    {
     "name": "stdout",
     "output_type": "stream",
     "text": [
      "4 rows affected.\n"
     ]
    },
    {
     "data": {
      "text/html": [
       "<table>\n",
       "    <tr>\n",
       "        <th>first_name</th>\n",
       "        <th>last_name</th>\n",
       "        <th>from_date</th>\n",
       "        <th>to_date</th>\n",
       "    </tr>\n",
       "    <tr>\n",
       "        <td>Tonny</td>\n",
       "        <td>Butterworth</td>\n",
       "        <td>1985-01-01</td>\n",
       "        <td>1988-10-17</td>\n",
       "    </tr>\n",
       "    <tr>\n",
       "        <td>Marjo</td>\n",
       "        <td>Giarratana</td>\n",
       "        <td>1988-10-17</td>\n",
       "        <td>1992-09-08</td>\n",
       "    </tr>\n",
       "    <tr>\n",
       "        <td>Xiaobin</td>\n",
       "        <td>Spinelli</td>\n",
       "        <td>1992-09-08</td>\n",
       "        <td>1996-01-03</td>\n",
       "    </tr>\n",
       "    <tr>\n",
       "        <td>Yuchang</td>\n",
       "        <td>Weedman</td>\n",
       "        <td>1996-01-03</td>\n",
       "        <td>9999-01-01</td>\n",
       "    </tr>\n",
       "</table>"
      ],
      "text/plain": [
       "[('Tonny', 'Butterworth', datetime.date(1985, 1, 1), datetime.date(1988, 10, 17)),\n",
       " ('Marjo', 'Giarratana', datetime.date(1988, 10, 17), datetime.date(1992, 9, 8)),\n",
       " ('Xiaobin', 'Spinelli', datetime.date(1992, 9, 8), datetime.date(1996, 1, 3)),\n",
       " ('Yuchang', 'Weedman', datetime.date(1996, 1, 3), datetime.date(9999, 1, 1))]"
      ]
     },
     "execution_count": 35,
     "metadata": {},
     "output_type": "execute_result"
    }
   ],
   "source": [
    "%%sql\n",
    "SELECT first_name, last_name, from_date, to_date\n",
    "FROM employees NATURAL JOIN dept_manager NATURAL JOIN departments\n",
    "WHERE dept_name = 'Customer Service'"
   ]
  },
  {
   "cell_type": "code",
   "execution_count": 36,
   "metadata": {
    "deletable": false,
    "editable": false,
    "nbgrader": {
     "checksum": "a615226398b42a9b6fee0cd590a333a8",
     "grade": true,
     "grade_id": "join5_t",
     "locked": true,
     "points": 2,
     "schema_version": 1,
     "solution": false
    }
   },
   "outputs": [
    {
     "name": "stdout",
     "output_type": "stream",
     "text": [
      "Correct!\n"
     ]
    }
   ],
   "source": [
    "join5_test(_)"
   ]
  },
  {
   "cell_type": "markdown",
   "metadata": {},
   "source": [
    "### 6. Give the first name and last name and salary of the current 10 highest paid employees."
   ]
  },
  {
   "cell_type": "code",
   "execution_count": 70,
   "metadata": {
    "deletable": false,
    "nbgrader": {
     "checksum": "5bf0450f08445a7fce04e5923ded77ac",
     "grade": false,
     "grade_id": "join6_a",
     "locked": false,
     "schema_version": 1,
     "solution": true
    }
   },
   "outputs": [
    {
     "name": "stdout",
     "output_type": "stream",
     "text": [
      "10 rows affected.\n"
     ]
    },
    {
     "data": {
      "text/html": [
       "<table>\n",
       "    <tr>\n",
       "        <th>first_name</th>\n",
       "        <th>last_name</th>\n",
       "        <th>salary</th>\n",
       "    </tr>\n",
       "    <tr>\n",
       "        <td>Tokuyasu</td>\n",
       "        <td>Pesch</td>\n",
       "        <td>158220</td>\n",
       "    </tr>\n",
       "    <tr>\n",
       "        <td>Honesty</td>\n",
       "        <td>Mukaidono</td>\n",
       "        <td>156286</td>\n",
       "    </tr>\n",
       "    <tr>\n",
       "        <td>Xiahua</td>\n",
       "        <td>Whitcomb</td>\n",
       "        <td>155709</td>\n",
       "    </tr>\n",
       "    <tr>\n",
       "        <td>Sanjai</td>\n",
       "        <td>Luders</td>\n",
       "        <td>155513</td>\n",
       "    </tr>\n",
       "    <tr>\n",
       "        <td>Tsutomu</td>\n",
       "        <td>Alameldin</td>\n",
       "        <td>155190</td>\n",
       "    </tr>\n",
       "    <tr>\n",
       "        <td>Willard</td>\n",
       "        <td>Baca</td>\n",
       "        <td>154459</td>\n",
       "    </tr>\n",
       "    <tr>\n",
       "        <td>Lidong</td>\n",
       "        <td>Meriste</td>\n",
       "        <td>154376</td>\n",
       "    </tr>\n",
       "    <tr>\n",
       "        <td>Charmane</td>\n",
       "        <td>Griswold</td>\n",
       "        <td>153715</td>\n",
       "    </tr>\n",
       "    <tr>\n",
       "        <td>Weijing</td>\n",
       "        <td>Chenoweth</td>\n",
       "        <td>152710</td>\n",
       "    </tr>\n",
       "    <tr>\n",
       "        <td>Weicheng</td>\n",
       "        <td>Hatcliff</td>\n",
       "        <td>152687</td>\n",
       "    </tr>\n",
       "</table>"
      ],
      "text/plain": [
       "[('Tokuyasu', 'Pesch', 158220),\n",
       " ('Honesty', 'Mukaidono', 156286),\n",
       " ('Xiahua', 'Whitcomb', 155709),\n",
       " ('Sanjai', 'Luders', 155513),\n",
       " ('Tsutomu', 'Alameldin', 155190),\n",
       " ('Willard', 'Baca', 154459),\n",
       " ('Lidong', 'Meriste', 154376),\n",
       " ('Charmane', 'Griswold', 153715),\n",
       " ('Weijing', 'Chenoweth', 152710),\n",
       " ('Weicheng', 'Hatcliff', 152687)]"
      ]
     },
     "execution_count": 70,
     "metadata": {},
     "output_type": "execute_result"
    }
   ],
   "source": [
    "%%sql\n",
    "SELECT first_name, last_name, salary\n",
    "FROM employees NATURAL JOIN salaries\n",
    "WHERE now() < to_date\n",
    "ORDER BY salary DESC\n",
    "LIMIT(10);"
   ]
  },
  {
   "cell_type": "code",
   "execution_count": null,
   "metadata": {},
   "outputs": [],
   "source": []
  },
  {
   "cell_type": "code",
   "execution_count": 71,
   "metadata": {
    "deletable": false,
    "editable": false,
    "nbgrader": {
     "checksum": "60a04bd41841c98279a05c78f605ff59",
     "grade": true,
     "grade_id": "join6_t",
     "locked": true,
     "points": 2,
     "schema_version": 1,
     "solution": false
    }
   },
   "outputs": [
    {
     "name": "stdout",
     "output_type": "stream",
     "text": [
      "Correct!\n"
     ]
    }
   ],
   "source": [
    "join6_test(_)"
   ]
  },
  {
   "cell_type": "markdown",
   "metadata": {},
   "source": [
    "### 7. Give the first name, last name, salary, and title of the current 10 highest paid employees."
   ]
  },
  {
   "cell_type": "code",
   "execution_count": 44,
   "metadata": {
    "deletable": false,
    "nbgrader": {
     "checksum": "c1b3c48798b99e640c95bda4e57220ae",
     "grade": false,
     "grade_id": "join7_a",
     "locked": false,
     "schema_version": 1,
     "solution": true
    }
   },
   "outputs": [
    {
     "name": "stdout",
     "output_type": "stream",
     "text": [
      "10 rows affected.\n"
     ]
    },
    {
     "data": {
      "text/html": [
       "<table>\n",
       "    <tr>\n",
       "        <th>first_name</th>\n",
       "        <th>last_name</th>\n",
       "        <th>salary</th>\n",
       "        <th>title</th>\n",
       "    </tr>\n",
       "    <tr>\n",
       "        <td>Tokuyasu</td>\n",
       "        <td>Pesch</td>\n",
       "        <td>158220</td>\n",
       "        <td>Senior Staff</td>\n",
       "    </tr>\n",
       "    <tr>\n",
       "        <td>Honesty</td>\n",
       "        <td>Mukaidono</td>\n",
       "        <td>156286</td>\n",
       "        <td>Senior Staff</td>\n",
       "    </tr>\n",
       "    <tr>\n",
       "        <td>Xiahua</td>\n",
       "        <td>Whitcomb</td>\n",
       "        <td>155709</td>\n",
       "        <td>Senior Staff</td>\n",
       "    </tr>\n",
       "    <tr>\n",
       "        <td>Sanjai</td>\n",
       "        <td>Luders</td>\n",
       "        <td>155513</td>\n",
       "        <td>Senior Staff</td>\n",
       "    </tr>\n",
       "    <tr>\n",
       "        <td>Tsutomu</td>\n",
       "        <td>Alameldin</td>\n",
       "        <td>155190</td>\n",
       "        <td>Senior Staff</td>\n",
       "    </tr>\n",
       "    <tr>\n",
       "        <td>Willard</td>\n",
       "        <td>Baca</td>\n",
       "        <td>154459</td>\n",
       "        <td>Senior Staff</td>\n",
       "    </tr>\n",
       "    <tr>\n",
       "        <td>Lidong</td>\n",
       "        <td>Meriste</td>\n",
       "        <td>154376</td>\n",
       "        <td>Senior Staff</td>\n",
       "    </tr>\n",
       "    <tr>\n",
       "        <td>Charmane</td>\n",
       "        <td>Griswold</td>\n",
       "        <td>153715</td>\n",
       "        <td>Senior Staff</td>\n",
       "    </tr>\n",
       "    <tr>\n",
       "        <td>Weijing</td>\n",
       "        <td>Chenoweth</td>\n",
       "        <td>152710</td>\n",
       "        <td>Senior Staff</td>\n",
       "    </tr>\n",
       "    <tr>\n",
       "        <td>Weicheng</td>\n",
       "        <td>Hatcliff</td>\n",
       "        <td>152687</td>\n",
       "        <td>Senior Staff</td>\n",
       "    </tr>\n",
       "</table>"
      ],
      "text/plain": [
       "[('Tokuyasu', 'Pesch', 158220, 'Senior Staff'),\n",
       " ('Honesty', 'Mukaidono', 156286, 'Senior Staff'),\n",
       " ('Xiahua', 'Whitcomb', 155709, 'Senior Staff'),\n",
       " ('Sanjai', 'Luders', 155513, 'Senior Staff'),\n",
       " ('Tsutomu', 'Alameldin', 155190, 'Senior Staff'),\n",
       " ('Willard', 'Baca', 154459, 'Senior Staff'),\n",
       " ('Lidong', 'Meriste', 154376, 'Senior Staff'),\n",
       " ('Charmane', 'Griswold', 153715, 'Senior Staff'),\n",
       " ('Weijing', 'Chenoweth', 152710, 'Senior Staff'),\n",
       " ('Weicheng', 'Hatcliff', 152687, 'Senior Staff')]"
      ]
     },
     "execution_count": 44,
     "metadata": {},
     "output_type": "execute_result"
    }
   ],
   "source": [
    "%%sql\n",
    "SELECT first_name, last_name, salary, title\n",
    "FROM employees NATURAL JOIN salaries JOIN titles ON titles.emp_no=salaries.emp_no \n",
    "WHERE salaries.to_date = '9999-01-01' and titles.to_date = '9999-01-01'\n",
    "ORDER BY salary DESC\n",
    "LIMIT(10);"
   ]
  },
  {
   "cell_type": "code",
   "execution_count": 45,
   "metadata": {
    "deletable": false,
    "editable": false,
    "nbgrader": {
     "checksum": "2073c0998760417877b00ae3fa25e4ec",
     "grade": true,
     "grade_id": "join7_t",
     "locked": true,
     "points": 2,
     "schema_version": 1,
     "solution": false
    }
   },
   "outputs": [
    {
     "name": "stdout",
     "output_type": "stream",
     "text": [
      "Correct!\n"
     ]
    }
   ],
   "source": [
    "join7_test(_)"
   ]
  },
  {
   "cell_type": "markdown",
   "metadata": {},
   "source": [
    "### 8. Give the first and last name, current salary, and department of the current 10 lowest paid employees.\n"
   ]
  },
  {
   "cell_type": "code",
   "execution_count": 47,
   "metadata": {
    "deletable": false,
    "nbgrader": {
     "checksum": "f168d6d0a3428e15f8f492699da1d9d4",
     "grade": false,
     "grade_id": "join8_a",
     "locked": false,
     "schema_version": 1,
     "solution": true
    }
   },
   "outputs": [
    {
     "name": "stdout",
     "output_type": "stream",
     "text": [
      "10 rows affected.\n"
     ]
    },
    {
     "data": {
      "text/html": [
       "<table>\n",
       "    <tr>\n",
       "        <th>first_name</th>\n",
       "        <th>last_name</th>\n",
       "        <th>salary</th>\n",
       "        <th>dept_name</th>\n",
       "    </tr>\n",
       "    <tr>\n",
       "        <td>Olivera</td>\n",
       "        <td>Baek</td>\n",
       "        <td>38623</td>\n",
       "        <td>Production</td>\n",
       "    </tr>\n",
       "    <tr>\n",
       "        <td>Pascal</td>\n",
       "        <td>Lueh</td>\n",
       "        <td>38936</td>\n",
       "        <td>Human Resources</td>\n",
       "    </tr>\n",
       "    <tr>\n",
       "        <td>Sachar</td>\n",
       "        <td>Nicolson</td>\n",
       "        <td>38942</td>\n",
       "        <td>Quality Management</td>\n",
       "    </tr>\n",
       "    <tr>\n",
       "        <td>Yurij</td>\n",
       "        <td>Narwekar</td>\n",
       "        <td>39012</td>\n",
       "        <td>Finance</td>\n",
       "    </tr>\n",
       "    <tr>\n",
       "        <td>Oldrich</td>\n",
       "        <td>Schmiedel</td>\n",
       "        <td>39036</td>\n",
       "        <td>Development</td>\n",
       "    </tr>\n",
       "    <tr>\n",
       "        <td>Gianluca</td>\n",
       "        <td>Talmor</td>\n",
       "        <td>39117</td>\n",
       "        <td>Quality Management</td>\n",
       "    </tr>\n",
       "    <tr>\n",
       "        <td>Marie</td>\n",
       "        <td>Marrakchi</td>\n",
       "        <td>39186</td>\n",
       "        <td>Research</td>\n",
       "    </tr>\n",
       "    <tr>\n",
       "        <td>Xiaopeng</td>\n",
       "        <td>Piancastelli</td>\n",
       "        <td>39227</td>\n",
       "        <td>Human Resources</td>\n",
       "    </tr>\n",
       "    <tr>\n",
       "        <td>Angus</td>\n",
       "        <td>Schlumberger</td>\n",
       "        <td>39264</td>\n",
       "        <td>Research</td>\n",
       "    </tr>\n",
       "    <tr>\n",
       "        <td>Vidar</td>\n",
       "        <td>Turnbull</td>\n",
       "        <td>39285</td>\n",
       "        <td>Production</td>\n",
       "    </tr>\n",
       "</table>"
      ],
      "text/plain": [
       "[('Olivera', 'Baek', 38623, 'Production'),\n",
       " ('Pascal', 'Lueh', 38936, 'Human Resources'),\n",
       " ('Sachar', 'Nicolson', 38942, 'Quality Management'),\n",
       " ('Yurij', 'Narwekar', 39012, 'Finance'),\n",
       " ('Oldrich', 'Schmiedel', 39036, 'Development'),\n",
       " ('Gianluca', 'Talmor', 39117, 'Quality Management'),\n",
       " ('Marie', 'Marrakchi', 39186, 'Research'),\n",
       " ('Xiaopeng', 'Piancastelli', 39227, 'Human Resources'),\n",
       " ('Angus', 'Schlumberger', 39264, 'Research'),\n",
       " ('Vidar', 'Turnbull', 39285, 'Production')]"
      ]
     },
     "execution_count": 47,
     "metadata": {},
     "output_type": "execute_result"
    }
   ],
   "source": [
    "%%sql\n",
    "SELECT first_name, last_name, salary, dept_name\n",
    "FROM employees NATURAL JOIN dept_emp NATURAL JOIN departments  JOIN salaries ON employees.emp_no=salaries.emp_no \n",
    "WHERE salaries.to_date = '9999-01-01'\n",
    "ORDER BY salary\n",
    "LIMIT(10);"
   ]
  },
  {
   "cell_type": "code",
   "execution_count": 48,
   "metadata": {
    "deletable": false,
    "editable": false,
    "nbgrader": {
     "checksum": "18d0613168f18b7ab3b858a80063f020",
     "grade": true,
     "grade_id": "join8_t",
     "locked": true,
     "points": 2,
     "schema_version": 1,
     "solution": false
    }
   },
   "outputs": [
    {
     "name": "stdout",
     "output_type": "stream",
     "text": [
      "Correct!\n"
     ]
    }
   ],
   "source": [
    "join8_test(_)"
   ]
  },
  {
   "cell_type": "markdown",
   "metadata": {},
   "source": [
    "### 9. What is the average salary of the current employees who are males and in the sales?"
   ]
  },
  {
   "cell_type": "code",
   "execution_count": 82,
   "metadata": {
    "deletable": false,
    "nbgrader": {
     "checksum": "c6ab242fd5ebea08ccd16ea95c689164",
     "grade": false,
     "grade_id": "join9_a",
     "locked": false,
     "schema_version": 1,
     "solution": true
    }
   },
   "outputs": [
    {
     "name": "stdout",
     "output_type": "stream",
     "text": [
      "1 rows affected.\n"
     ]
    },
    {
     "data": {
      "text/html": [
       "<table>\n",
       "    <tr>\n",
       "        <th>to_char</th>\n",
       "    </tr>\n",
       "    <tr>\n",
       "        <td>$  88,895.99</td>\n",
       "    </tr>\n",
       "</table>"
      ],
      "text/plain": [
       "[('$  88,895.99',)]"
      ]
     },
     "execution_count": 82,
     "metadata": {},
     "output_type": "execute_result"
    }
   ],
   "source": [
    "%%sql\n",
    "SELECT to_char(avg(salary), '$999,999.99') to_char\n",
    "FROM departments NATURAL JOIN dept_emp NATURAL JOIN employees join salaries on salaries.emp_no = employees.emp_no\n",
    "WHERE gender = 'M' and dept_name = 'Sales' and now() < salaries.to_date"
   ]
  },
  {
   "cell_type": "code",
   "execution_count": 79,
   "metadata": {
    "deletable": false,
    "editable": false,
    "nbgrader": {
     "checksum": "cec2773a5c0ea6505d6b7bb83c2c0e63",
     "grade": true,
     "grade_id": "join9_t",
     "locked": true,
     "points": 2,
     "schema_version": 1,
     "solution": false
    }
   },
   "outputs": [
    {
     "name": "stdout",
     "output_type": "stream",
     "text": [
      "Error! Line by line comparison shows that your query is invalid. Read the question carefully.\n",
      "Your solution should be like the following table:\n",
      "       to_char\n",
      "0    88,864.20\n",
      "\n"
     ]
    },
    {
     "ename": "AssertionError",
     "evalue": "",
     "output_type": "error",
     "traceback": [
      "\u001b[0;31m---------------------------------------------------------------------------\u001b[0m",
      "\u001b[0;31mAssertionError\u001b[0m                            Traceback (most recent call last)",
      "\u001b[0;32m<ipython-input-79-d9281aa2dbeb>\u001b[0m in \u001b[0;36m<module>\u001b[0;34m()\u001b[0m\n\u001b[0;32m----> 1\u001b[0;31m \u001b[0mjoin9_test\u001b[0m\u001b[0;34m(\u001b[0m\u001b[0m_\u001b[0m\u001b[0;34m)\u001b[0m\u001b[0;34m\u001b[0m\u001b[0m\n\u001b[0m",
      "\u001b[0;32m/usr/local/lib/python3.5/site-packages/sols6.pyc\u001b[0m in \u001b[0;36mjoin9_test\u001b[0;34m(got)\u001b[0m\n",
      "\u001b[0;32m/usr/local/lib/python3.5/site-packages/sols6.pyc\u001b[0m in \u001b[0;36mcheckSQL\u001b[0;34m(result, query)\u001b[0m\n",
      "\u001b[0;32m/usr/local/lib/python3.5/site-packages/sols6.pyc\u001b[0m in \u001b[0;36mshowDiff\u001b[0;34m(query)\u001b[0m\n",
      "\u001b[0;31mAssertionError\u001b[0m: "
     ]
    }
   ],
   "source": [
    "join9_test(_)"
   ]
  },
  {
   "cell_type": "markdown",
   "metadata": {},
   "source": [
    "### 10. Show the number of males and females currently in each department.\n",
    "\n",
    "The department names should be sorted and the count of females should be listed before the count of males for each department."
   ]
  },
  {
   "cell_type": "code",
   "execution_count": 76,
   "metadata": {
    "deletable": false,
    "nbgrader": {
     "checksum": "ce7a8da9755fb4442f2b14d88d17e201",
     "grade": false,
     "grade_id": "join10_a",
     "locked": false,
     "schema_version": 1,
     "solution": true
    }
   },
   "outputs": [
    {
     "name": "stdout",
     "output_type": "stream",
     "text": [
      "18 rows affected.\n"
     ]
    },
    {
     "data": {
      "text/html": [
       "<table>\n",
       "    <tr>\n",
       "        <th>dept_name</th>\n",
       "        <th>gender</th>\n",
       "        <th>count</th>\n",
       "    </tr>\n",
       "    <tr>\n",
       "        <td>Customer Service</td>\n",
       "        <td>F</td>\n",
       "        <td>7007</td>\n",
       "    </tr>\n",
       "    <tr>\n",
       "        <td>Customer Service</td>\n",
       "        <td>M</td>\n",
       "        <td>10562</td>\n",
       "    </tr>\n",
       "    <tr>\n",
       "        <td>Development</td>\n",
       "        <td>F</td>\n",
       "        <td>24533</td>\n",
       "    </tr>\n",
       "    <tr>\n",
       "        <td>Development</td>\n",
       "        <td>M</td>\n",
       "        <td>36853</td>\n",
       "    </tr>\n",
       "    <tr>\n",
       "        <td>Finance</td>\n",
       "        <td>F</td>\n",
       "        <td>5014</td>\n",
       "    </tr>\n",
       "    <tr>\n",
       "        <td>Finance</td>\n",
       "        <td>M</td>\n",
       "        <td>7423</td>\n",
       "    </tr>\n",
       "    <tr>\n",
       "        <td>Human Resources</td>\n",
       "        <td>F</td>\n",
       "        <td>5147</td>\n",
       "    </tr>\n",
       "    <tr>\n",
       "        <td>Human Resources</td>\n",
       "        <td>M</td>\n",
       "        <td>7751</td>\n",
       "    </tr>\n",
       "    <tr>\n",
       "        <td>Marketing</td>\n",
       "        <td>F</td>\n",
       "        <td>5864</td>\n",
       "    </tr>\n",
       "    <tr>\n",
       "        <td>Marketing</td>\n",
       "        <td>M</td>\n",
       "        <td>8978</td>\n",
       "    </tr>\n",
       "    <tr>\n",
       "        <td>Production</td>\n",
       "        <td>F</td>\n",
       "        <td>21393</td>\n",
       "    </tr>\n",
       "    <tr>\n",
       "        <td>Production</td>\n",
       "        <td>M</td>\n",
       "        <td>31911</td>\n",
       "    </tr>\n",
       "    <tr>\n",
       "        <td>Quality Management</td>\n",
       "        <td>F</td>\n",
       "        <td>5872</td>\n",
       "    </tr>\n",
       "    <tr>\n",
       "        <td>Quality Management</td>\n",
       "        <td>M</td>\n",
       "        <td>8674</td>\n",
       "    </tr>\n",
       "    <tr>\n",
       "        <td>Research</td>\n",
       "        <td>F</td>\n",
       "        <td>6181</td>\n",
       "    </tr>\n",
       "    <tr>\n",
       "        <td>Research</td>\n",
       "        <td>M</td>\n",
       "        <td>9260</td>\n",
       "    </tr>\n",
       "    <tr>\n",
       "        <td>Sales</td>\n",
       "        <td>F</td>\n",
       "        <td>14999</td>\n",
       "    </tr>\n",
       "    <tr>\n",
       "        <td>Sales</td>\n",
       "        <td>M</td>\n",
       "        <td>22702</td>\n",
       "    </tr>\n",
       "</table>"
      ],
      "text/plain": [
       "[('Customer Service', 'F', 7007),\n",
       " ('Customer Service', 'M', 10562),\n",
       " ('Development', 'F', 24533),\n",
       " ('Development', 'M', 36853),\n",
       " ('Finance', 'F', 5014),\n",
       " ('Finance', 'M', 7423),\n",
       " ('Human Resources', 'F', 5147),\n",
       " ('Human Resources', 'M', 7751),\n",
       " ('Marketing', 'F', 5864),\n",
       " ('Marketing', 'M', 8978),\n",
       " ('Production', 'F', 21393),\n",
       " ('Production', 'M', 31911),\n",
       " ('Quality Management', 'F', 5872),\n",
       " ('Quality Management', 'M', 8674),\n",
       " ('Research', 'F', 6181),\n",
       " ('Research', 'M', 9260),\n",
       " ('Sales', 'F', 14999),\n",
       " ('Sales', 'M', 22702)]"
      ]
     },
     "execution_count": 76,
     "metadata": {},
     "output_type": "execute_result"
    }
   ],
   "source": [
    "%%sql\n",
    "SELECT dept_name, gender,count(gender)\n",
    "FROM employees NATURAL JOIN dept_emp NATURAL JOIN departments\n",
    "WHERE now() < to_date\n",
    "GROUP BY dept_name, gender\n",
    "ORDER BY dept_name, gender;"
   ]
  },
  {
   "cell_type": "code",
   "execution_count": 77,
   "metadata": {
    "deletable": false,
    "editable": false,
    "nbgrader": {
     "checksum": "38ebf048ba18a1c54c3e75cddce7f06a",
     "grade": true,
     "grade_id": "join10_t",
     "locked": true,
     "points": 2,
     "schema_version": 1,
     "solution": false
    }
   },
   "outputs": [
    {
     "name": "stdout",
     "output_type": "stream",
     "text": [
      "Correct!\n"
     ]
    }
   ],
   "source": [
    "join10_test(_)"
   ]
  },
  {
   "cell_type": "markdown",
   "metadata": {},
   "source": [
    "## What is the average salary of the current employees who have the title Engineer and in the Development?"
   ]
  },
  {
   "cell_type": "code",
   "execution_count": 24,
   "metadata": {},
   "outputs": [
    {
     "name": "stdout",
     "output_type": "stream",
     "text": [
      "1 rows affected.\n"
     ]
    },
    {
     "data": {
      "text/html": [
       "<table>\n",
       "    <tr>\n",
       "        <th>to_char</th>\n",
       "    </tr>\n",
       "    <tr>\n",
       "        <td>$  57,701.56</td>\n",
       "    </tr>\n",
       "</table>"
      ],
      "text/plain": [
       "[('$  57,701.56',)]"
      ]
     },
     "execution_count": 24,
     "metadata": {},
     "output_type": "execute_result"
    }
   ],
   "source": [
    "%%sql\n",
    "SELECT to_char(avg(salary), '$999,999.99') to_char\n",
    "FROM departments NATURAL JOIN dept_emp NATURAL JOIN titles join salaries on salaries.emp_no = titles.emp_no\n",
    "WHERE title = 'Engineer' and dept_name = 'Development' and now() < salaries.to_date"
   ]
  },
  {
   "cell_type": "code",
   "execution_count": 18,
   "metadata": {},
   "outputs": [
    {
     "name": "stdout",
     "output_type": "stream",
     "text": [
      "1 rows affected.\n"
     ]
    },
    {
     "data": {
      "text/html": [
       "<table>\n",
       "    <tr>\n",
       "        <th>count</th>\n",
       "    </tr>\n",
       "    <tr>\n",
       "        <td>4</td>\n",
       "    </tr>\n",
       "</table>"
      ],
      "text/plain": [
       "[(4,)]"
      ]
     },
     "execution_count": 18,
     "metadata": {},
     "output_type": "execute_result"
    }
   ],
   "source": [
    "%%sql\n",
    "SELECT COUNT(*)\n",
    "FROM dept_manager NATURAL JOIN departments\n",
    "WHERE dept_name = 'Customer Service' and '1980-01-01' < to_date"
   ]
  },
  {
   "cell_type": "code",
   "execution_count": 20,
   "metadata": {},
   "outputs": [
    {
     "name": "stdout",
     "output_type": "stream",
     "text": [
      "(psycopg2.ProgrammingError) column \"employees.first_name\" must appear in the GROUP BY clause or be used in an aggregate function\n",
      "LINE 1: SELECT first_name, last_name, to_char(max(salary), '$999,999...\n",
      "               ^\n",
      " [SQL: \"SELECT first_name, last_name, to_char(max(salary), '$999,999.99') to_char\\nFROM employees NATURAL JOIN salaries\\nWHERE now() < hire_date\"]\n"
     ]
    }
   ],
   "source": [
    "%%sql\n",
    "SELECT first_name, last_name, to_char(max(salary), '$999,999.99') to_char\n",
    "FROM employees NATURAL JOIN salaries\n",
    "WHERE now() < hire_date"
   ]
  },
  {
   "cell_type": "code",
   "execution_count": null,
   "metadata": {},
   "outputs": [],
   "source": []
  }
 ],
 "metadata": {
  "kernelspec": {
   "display_name": "Python 3",
   "language": "python",
   "name": "python3"
  },
  "language_info": {
   "codemirror_mode": {
    "name": "ipython",
    "version": 3
   },
   "file_extension": ".py",
   "mimetype": "text/x-python",
   "name": "python",
   "nbconvert_exporter": "python",
   "pygments_lexer": "ipython3",
   "version": "3.5.1"
  }
 },
 "nbformat": 4,
 "nbformat_minor": 1
}

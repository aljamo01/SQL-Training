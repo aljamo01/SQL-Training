{
 "cells": [
  {
   "cell_type": "markdown",
   "metadata": {},
   "source": [
    "## Aggregate Query Practice\n",
    "\n",
    "This assignment is to practice with the new SQL clauses:\n",
    "\n",
    "* GROUP BY\n",
    "* HAVING\n",
    "\n",
    "\n"
   ]
  },
  {
   "cell_type": "code",
   "execution_count": 44,
   "metadata": {},
   "outputs": [
    {
     "name": "stdout",
     "output_type": "stream",
     "text": [
      "The sql extension is already loaded. To reload it, use:\n",
      "  %reload_ext sql\n"
     ]
    }
   ],
   "source": [
    "# all of your notebooks and homework using SQL are going to start something like this\n",
    "import warnings\n",
    "warnings.filterwarnings('ignore')\n",
    "%load_ext sql\n",
    "from sols2 import *\n"
   ]
  },
  {
   "cell_type": "code",
   "execution_count": 45,
   "metadata": {},
   "outputs": [
    {
     "data": {
      "text/plain": [
       "'Connected: aljamo01@world'"
      ]
     },
     "execution_count": 45,
     "metadata": {},
     "output_type": "execute_result"
    }
   ],
   "source": [
    "%sql postgresql://aljamo01:@localhost/world\n",
    "\n"
   ]
  },
  {
   "cell_type": "code",
   "execution_count": null,
   "metadata": {},
   "outputs": [],
   "source": []
  },
  {
   "cell_type": "markdown",
   "metadata": {},
   "source": [
    "### Which government form has the highest average life expectancy?\n",
    "\n"
   ]
  },
  {
   "cell_type": "code",
   "execution_count": 46,
   "metadata": {
    "deletable": false,
    "nbgrader": {
     "checksum": "09043f64c4bcefcf23c893e47873da4e",
     "grade": true,
     "grade_id": "agg1",
     "locked": false,
     "points": 2,
     "schema_version": 1,
     "solution": true
    }
   },
   "outputs": [
    {
     "name": "stdout",
     "output_type": "stream",
     "text": [
      "1 rows affected.\n"
     ]
    },
    {
     "data": {
      "text/html": [
       "<table>\n",
       "    <tr>\n",
       "        <th>governmentform</th>\n",
       "        <th>avg_lexpectancy</th>\n",
       "    </tr>\n",
       "    <tr>\n",
       "        <td>Parliamentary Coprincipality</td>\n",
       "        <td>83.5</td>\n",
       "    </tr>\n",
       "</table>"
      ],
      "text/plain": [
       "[('Parliamentary Coprincipality', 83.5)]"
      ]
     },
     "execution_count": 46,
     "metadata": {},
     "output_type": "execute_result"
    }
   ],
   "source": [
    "%%sql\n",
    "\n",
    "SELECT governmentform, AVG(lifeexpectancy) AS avg_lexpectancy\n",
    "FROM country\n",
    "GROUP BY governmentform\n",
    "ORDER BY avg_lexpectancy DESC\n",
    "LIMIT 1;"
   ]
  },
  {
   "cell_type": "code",
   "execution_count": 47,
   "metadata": {
    "deletable": false,
    "editable": false,
    "nbgrader": {
     "checksum": "30493160fcdd38f1b00f1ddd2ce2fa35",
     "grade": true,
     "grade_id": "agg1c",
     "locked": true,
     "points": 2,
     "schema_version": 1,
     "solution": false
    }
   },
   "outputs": [
    {
     "name": "stdout",
     "output_type": "stream",
     "text": [
      "Error! Did you name the columns correctly?\n",
      "Columns' names expected: governmentform, Life Expectancy.\n"
     ]
    },
    {
     "ename": "AssertionError",
     "evalue": "",
     "output_type": "error",
     "traceback": [
      "\u001b[0;31m---------------------------------------------------------------------------\u001b[0m",
      "\u001b[0;31mAssertionError\u001b[0m                            Traceback (most recent call last)",
      "\u001b[0;32m<ipython-input-47-6bd397800ea6>\u001b[0m in \u001b[0;36m<module>\u001b[0;34m()\u001b[0m\n\u001b[1;32m      1\u001b[0m \u001b[0;34m\u001b[0m\u001b[0m\n\u001b[0;32m----> 2\u001b[0;31m \u001b[0mchecker_1S\u001b[0m\u001b[0;34m(\u001b[0m\u001b[0m_\u001b[0m\u001b[0;34m)\u001b[0m\u001b[0;34m\u001b[0m\u001b[0m\n\u001b[0m",
      "\u001b[0;32m/usr/local/lib/python3.5/site-packages/sols2.pyc\u001b[0m in \u001b[0;36mchecker_1S\u001b[0;34m(got)\u001b[0m\n",
      "\u001b[0;32m/usr/local/lib/python3.5/site-packages/sols2.pyc\u001b[0m in \u001b[0;36mcheckSQL\u001b[0;34m(result, query)\u001b[0m\n",
      "\u001b[0;32m/usr/local/lib/python3.5/site-packages/sols2.pyc\u001b[0m in \u001b[0;36mcolNameCheck\u001b[0;34m(result, query)\u001b[0m\n",
      "\u001b[0;31mAssertionError\u001b[0m: "
     ]
    }
   ],
   "source": [
    "\n",
    "checker_1S(_)"
   ]
  },
  {
   "cell_type": "markdown",
   "metadata": {},
   "source": [
    "### Calculate the surface area of the regions and sort in ascending order.\n",
    "\n"
   ]
  },
  {
   "cell_type": "code",
   "execution_count": 48,
   "metadata": {
    "deletable": false,
    "nbgrader": {
     "checksum": "abc604d98beb5b7afa923935cd82e651",
     "grade": true,
     "grade_id": "agg2",
     "locked": false,
     "points": 2,
     "schema_version": 1,
     "solution": true
    }
   },
   "outputs": [
    {
     "name": "stdout",
     "output_type": "stream",
     "text": [
      "25 rows affected.\n"
     ]
    },
    {
     "data": {
      "text/html": [
       "<table>\n",
       "    <tr>\n",
       "        <th>region</th>\n",
       "        <th>surfacearea_sum</th>\n",
       "    </tr>\n",
       "    <tr>\n",
       "        <td>Micronesia/Caribbean</td>\n",
       "        <td>16.0</td>\n",
       "    </tr>\n",
       "    <tr>\n",
       "        <td>Micronesia</td>\n",
       "        <td>3102.0</td>\n",
       "    </tr>\n",
       "    <tr>\n",
       "        <td>Polynesia</td>\n",
       "        <td>8463.0</td>\n",
       "    </tr>\n",
       "    <tr>\n",
       "        <td>Baltic Countries</td>\n",
       "        <td>175117.0</td>\n",
       "    </tr>\n",
       "    <tr>\n",
       "        <td>Caribbean</td>\n",
       "        <td>234423.0</td>\n",
       "    </tr>\n",
       "    <tr>\n",
       "        <td>British Islands</td>\n",
       "        <td>313173.0</td>\n",
       "    </tr>\n",
       "    <tr>\n",
       "        <td>Melanesia</td>\n",
       "        <td>540774.0</td>\n",
       "    </tr>\n",
       "    <tr>\n",
       "        <td>Western Europe</td>\n",
       "        <td>1108460.0</td>\n",
       "    </tr>\n",
       "    <tr>\n",
       "        <td>Southern Europe</td>\n",
       "        <td>1316390.0</td>\n",
       "    </tr>\n",
       "    <tr>\n",
       "        <td>Nordic Countries</td>\n",
       "        <td>1321900.0</td>\n",
       "    </tr>\n",
       "    <tr>\n",
       "        <td>Central America</td>\n",
       "        <td>2479530.0</td>\n",
       "    </tr>\n",
       "    <tr>\n",
       "        <td>Southern Africa</td>\n",
       "        <td>2674780.0</td>\n",
       "    </tr>\n",
       "    <tr>\n",
       "        <td>Southeast Asia</td>\n",
       "        <td>4494800.0</td>\n",
       "    </tr>\n",
       "    <tr>\n",
       "        <td>Middle East</td>\n",
       "        <td>4820590.0</td>\n",
       "    </tr>\n",
       "    <tr>\n",
       "        <td>Western Africa</td>\n",
       "        <td>6138340.0</td>\n",
       "    </tr>\n",
       "    <tr>\n",
       "        <td>Eastern Africa</td>\n",
       "        <td>6299890.0</td>\n",
       "    </tr>\n",
       "    <tr>\n",
       "        <td>Central Africa</td>\n",
       "        <td>6612670.0</td>\n",
       "    </tr>\n",
       "    <tr>\n",
       "        <td>Australia and New Zealand</td>\n",
       "        <td>8011940.0</td>\n",
       "    </tr>\n",
       "    <tr>\n",
       "        <td>Northern Africa</td>\n",
       "        <td>8524700.0</td>\n",
       "    </tr>\n",
       "    <tr>\n",
       "        <td>Southern and Central Asia</td>\n",
       "        <td>10791100.0</td>\n",
       "    </tr>\n",
       "    <tr>\n",
       "        <td>Eastern Asia</td>\n",
       "        <td>11774500.0</td>\n",
       "    </tr>\n",
       "    <tr>\n",
       "        <td>Antarctica</td>\n",
       "        <td>13132100.0</td>\n",
       "    </tr>\n",
       "    <tr>\n",
       "        <td>South America</td>\n",
       "        <td>17864900.0</td>\n",
       "    </tr>\n",
       "    <tr>\n",
       "        <td>Eastern Europe</td>\n",
       "        <td>18814100.0</td>\n",
       "    </tr>\n",
       "    <tr>\n",
       "        <td>North America</td>\n",
       "        <td>21500500.0</td>\n",
       "    </tr>\n",
       "</table>"
      ],
      "text/plain": [
       "[('Micronesia/Caribbean', 16.0),\n",
       " ('Micronesia', 3102.0),\n",
       " ('Polynesia', 8463.0),\n",
       " ('Baltic Countries', 175117.0),\n",
       " ('Caribbean', 234423.0),\n",
       " ('British Islands', 313173.0),\n",
       " ('Melanesia', 540774.0),\n",
       " ('Western Europe', 1108460.0),\n",
       " ('Southern Europe', 1316390.0),\n",
       " ('Nordic Countries', 1321900.0),\n",
       " ('Central America', 2479530.0),\n",
       " ('Southern Africa', 2674780.0),\n",
       " ('Southeast Asia', 4494800.0),\n",
       " ('Middle East', 4820590.0),\n",
       " ('Western Africa', 6138340.0),\n",
       " ('Eastern Africa', 6299890.0),\n",
       " ('Central Africa', 6612670.0),\n",
       " ('Australia and New Zealand', 8011940.0),\n",
       " ('Northern Africa', 8524700.0),\n",
       " ('Southern and Central Asia', 10791100.0),\n",
       " ('Eastern Asia', 11774500.0),\n",
       " ('Antarctica', 13132100.0),\n",
       " ('South America', 17864900.0),\n",
       " ('Eastern Europe', 18814100.0),\n",
       " ('North America', 21500500.0)]"
      ]
     },
     "execution_count": 48,
     "metadata": {},
     "output_type": "execute_result"
    }
   ],
   "source": [
    "%%sql\n",
    "\n",
    "SELECT region, sum(surfacearea) AS surfacearea_sum\n",
    "FROM country\n",
    "GROUP BY region\n",
    "ORDER BY surfacearea_sum ASC;"
   ]
  },
  {
   "cell_type": "code",
   "execution_count": null,
   "metadata": {
    "deletable": false,
    "editable": false,
    "nbgrader": {
     "checksum": "b23c61c092c3a6cf1f30787283c0028e",
     "grade": true,
     "grade_id": "agg2c",
     "locked": true,
     "points": 2,
     "schema_version": 1,
     "solution": false
    }
   },
   "outputs": [],
   "source": [
    "\n",
    "checker_2S(_)"
   ]
  },
  {
   "cell_type": "markdown",
   "metadata": {},
   "source": [
    "### Which government types have the lowest gnp?\n",
    "\n"
   ]
  },
  {
   "cell_type": "code",
   "execution_count": 49,
   "metadata": {
    "deletable": false,
    "nbgrader": {
     "checksum": "538a6aba00f818ad8cd07e57449035b4",
     "grade": true,
     "grade_id": "agg3",
     "locked": false,
     "points": 2,
     "schema_version": 1,
     "solution": true
    }
   },
   "outputs": [
    {
     "name": "stdout",
     "output_type": "stream",
     "text": [
      "10 rows affected.\n"
     ]
    },
    {
     "data": {
      "text/html": [
       "<table>\n",
       "    <tr>\n",
       "        <th>governmentform</th>\n",
       "        <th>avg_lexpectancy</th>\n",
       "    </tr>\n",
       "    <tr>\n",
       "        <td>Dependent Territory of the US</td>\n",
       "        <td>0.0</td>\n",
       "    </tr>\n",
       "    <tr>\n",
       "        <td>Dependent Territory of Norway</td>\n",
       "        <td>0.0</td>\n",
       "    </tr>\n",
       "    <tr>\n",
       "        <td>Co-administrated</td>\n",
       "        <td>0.0</td>\n",
       "    </tr>\n",
       "    <tr>\n",
       "        <td>Independent Church State</td>\n",
       "        <td>0.0</td>\n",
       "    </tr>\n",
       "    <tr>\n",
       "        <td>Territory of Australia</td>\n",
       "        <td>0.0</td>\n",
       "    </tr>\n",
       "    <tr>\n",
       "        <td>Nonmetropolitan Territory of New Zealand</td>\n",
       "        <td>23.6999994913737</td>\n",
       "    </tr>\n",
       "    <tr>\n",
       "        <td>Nonmetropolitan Territory of France</td>\n",
       "        <td>36.9000015258789</td>\n",
       "    </tr>\n",
       "    <tr>\n",
       "        <td>Islamic Emirate</td>\n",
       "        <td>45.9000015258789</td>\n",
       "    </tr>\n",
       "    <tr>\n",
       "        <td>Administrated by the UN</td>\n",
       "        <td>46.0</td>\n",
       "    </tr>\n",
       "    <tr>\n",
       "        <td>Occupied by Marocco</td>\n",
       "        <td>49.7999992370605</td>\n",
       "    </tr>\n",
       "</table>"
      ],
      "text/plain": [
       "[('Dependent Territory of the US', 0.0),\n",
       " ('Dependent Territory of Norway', 0.0),\n",
       " ('Co-administrated', 0.0),\n",
       " ('Independent Church State', 0.0),\n",
       " ('Territory of Australia', 0.0),\n",
       " ('Nonmetropolitan Territory of New Zealand', 23.6999994913737),\n",
       " ('Nonmetropolitan Territory of France', 36.9000015258789),\n",
       " ('Islamic Emirate', 45.9000015258789),\n",
       " ('Administrated by the UN', 46.0),\n",
       " ('Occupied by Marocco', 49.7999992370605)]"
      ]
     },
     "execution_count": 49,
     "metadata": {},
     "output_type": "execute_result"
    }
   ],
   "source": [
    "%%sql\n",
    "SELECT governmentform, AVG(lifeexpectancy) AS avg_lexpectancy\n",
    "FROM country\n",
    "GROUP BY governmentform\n",
    "ORDER BY avg_lexpectancy ASC\n",
    "LIMIT 10;\n"
   ]
  },
  {
   "cell_type": "code",
   "execution_count": null,
   "metadata": {
    "deletable": false,
    "editable": false,
    "nbgrader": {
     "checksum": "5a3fc70576b1fc99a8434ea83f0c91d0",
     "grade": true,
     "grade_id": "agg3c",
     "locked": true,
     "points": 2,
     "schema_version": 1,
     "solution": false
    }
   },
   "outputs": [],
   "source": [
    "\n",
    "checker_3S(_)"
   ]
  },
  {
   "cell_type": "markdown",
   "metadata": {},
   "source": [
    "### What regions have a high average life expectancy?\n",
    "\n"
   ]
  },
  {
   "cell_type": "code",
   "execution_count": 50,
   "metadata": {
    "deletable": false,
    "nbgrader": {
     "checksum": "3a8a42b22a0a51b1d93ce779e76adc77",
     "grade": true,
     "grade_id": "agg4",
     "locked": false,
     "points": 2,
     "schema_version": 1,
     "solution": true
    }
   },
   "outputs": [
    {
     "name": "stdout",
     "output_type": "stream",
     "text": [
      "10 rows affected.\n"
     ]
    },
    {
     "data": {
      "text/html": [
       "<table>\n",
       "    <tr>\n",
       "        <th>region</th>\n",
       "        <th>avg_lexpectancy</th>\n",
       "    </tr>\n",
       "    <tr>\n",
       "        <td>Western Europe</td>\n",
       "        <td>78.2555567423503</td>\n",
       "    </tr>\n",
       "    <tr>\n",
       "        <td>British Islands</td>\n",
       "        <td>77.25</td>\n",
       "    </tr>\n",
       "    <tr>\n",
       "        <td>North America</td>\n",
       "        <td>75.8199996948242</td>\n",
       "    </tr>\n",
       "    <tr>\n",
       "        <td>Eastern Asia</td>\n",
       "        <td>75.25</td>\n",
       "    </tr>\n",
       "    <tr>\n",
       "        <td>Caribbean</td>\n",
       "        <td>73.0583332379659</td>\n",
       "    </tr>\n",
       "    <tr>\n",
       "        <td>Southern Europe</td>\n",
       "        <td>71.4266672770182</td>\n",
       "    </tr>\n",
       "    <tr>\n",
       "        <td>Central America</td>\n",
       "        <td>71.0249996185303</td>\n",
       "    </tr>\n",
       "    <tr>\n",
       "        <td>Middle East</td>\n",
       "        <td>70.5666671329074</td>\n",
       "    </tr>\n",
       "    <tr>\n",
       "        <td>Eastern Europe</td>\n",
       "        <td>69.9299995422363</td>\n",
       "    </tr>\n",
       "    <tr>\n",
       "        <td>Baltic Countries</td>\n",
       "        <td>69.0</td>\n",
       "    </tr>\n",
       "</table>"
      ],
      "text/plain": [
       "[('Western Europe', 78.2555567423503),\n",
       " ('British Islands', 77.25),\n",
       " ('North America', 75.8199996948242),\n",
       " ('Eastern Asia', 75.25),\n",
       " ('Caribbean', 73.0583332379659),\n",
       " ('Southern Europe', 71.4266672770182),\n",
       " ('Central America', 71.0249996185303),\n",
       " ('Middle East', 70.5666671329074),\n",
       " ('Eastern Europe', 69.9299995422363),\n",
       " ('Baltic Countries', 69.0)]"
      ]
     },
     "execution_count": 50,
     "metadata": {},
     "output_type": "execute_result"
    }
   ],
   "source": [
    "%%sql\n",
    "SELECT region, AVG(lifeexpectancy) AS avg_lexpectancy\n",
    "FROM country\n",
    "GROUP BY region\n",
    "ORDER BY avg_lexpectancy DESC\n",
    "LIMIT 10;"
   ]
  },
  {
   "cell_type": "code",
   "execution_count": null,
   "metadata": {
    "deletable": false,
    "editable": false,
    "nbgrader": {
     "checksum": "148474ae04d90fbe28c58b15ad347b4c",
     "grade": true,
     "grade_id": "agg4c",
     "locked": true,
     "points": 2,
     "schema_version": 1,
     "solution": false
    }
   },
   "outputs": [],
   "source": [
    "\n",
    "checker_4S(_)"
   ]
  },
  {
   "cell_type": "markdown",
   "metadata": {},
   "source": [
    "### What is the most common form of government?\n",
    "\n"
   ]
  },
  {
   "cell_type": "code",
   "execution_count": 51,
   "metadata": {
    "deletable": false,
    "nbgrader": {
     "checksum": "b1ee2beeaf34ae70a0ac117d6e4a6908",
     "grade": true,
     "grade_id": "agg5",
     "locked": false,
     "points": 2,
     "schema_version": 1,
     "solution": true
    }
   },
   "outputs": [
    {
     "name": "stdout",
     "output_type": "stream",
     "text": [
      "1 rows affected.\n"
     ]
    },
    {
     "data": {
      "text/html": [
       "<table>\n",
       "    <tr>\n",
       "        <th>governmentform</th>\n",
       "        <th>total</th>\n",
       "    </tr>\n",
       "    <tr>\n",
       "        <td>Republic</td>\n",
       "        <td>122</td>\n",
       "    </tr>\n",
       "</table>"
      ],
      "text/plain": [
       "[('Republic', 122)]"
      ]
     },
     "execution_count": 51,
     "metadata": {},
     "output_type": "execute_result"
    }
   ],
   "source": [
    "%%sql\n",
    "\n",
    "SELECT governmentform, COUNT(governmentform) AS total\n",
    "FROM country\n",
    "GROUP BY governmentform\n",
    "ORDER BY total DESC\n",
    "LIMIT 1;"
   ]
  },
  {
   "cell_type": "code",
   "execution_count": null,
   "metadata": {
    "deletable": false,
    "editable": false,
    "nbgrader": {
     "checksum": "9a6cfad1196eec5ec001978a0aee1dad",
     "grade": true,
     "grade_id": "agg5c",
     "locked": true,
     "points": 2,
     "schema_version": 1,
     "solution": false
    }
   },
   "outputs": [],
   "source": [
    "\n",
    "checker_5S(_)"
   ]
  },
  {
   "cell_type": "markdown",
   "metadata": {},
   "source": [
    "### Which region has the highest life expectancy?\n",
    "\n"
   ]
  },
  {
   "cell_type": "code",
   "execution_count": 63,
   "metadata": {
    "deletable": false,
    "nbgrader": {
     "checksum": "af899da72076a21d709ee6b2a2fa75cd",
     "grade": true,
     "grade_id": "agg6",
     "locked": false,
     "points": 2,
     "schema_version": 1,
     "solution": true
    }
   },
   "outputs": [
    {
     "name": "stdout",
     "output_type": "stream",
     "text": [
      "1 rows affected.\n"
     ]
    },
    {
     "data": {
      "text/html": [
       "<table>\n",
       "    <tr>\n",
       "        <th>region</th>\n",
       "        <th>gnp_sum</th>\n",
       "    </tr>\n",
       "    <tr>\n",
       "        <td>Southern Europe</td>\n",
       "        <td>83.5</td>\n",
       "    </tr>\n",
       "</table>"
      ],
      "text/plain": [
       "[('Southern Europe', 83.5)]"
      ]
     },
     "execution_count": 63,
     "metadata": {},
     "output_type": "execute_result"
    }
   ],
   "source": [
    "%%sql\n",
    "\n",
    "SELECT region, max(lifeexpectancy) AS gnp_sum\n",
    "FROM country\n",
    "GROUP BY region\n",
    "ORDER BY gnp_sum  DESC\n",
    "LIMIT 1;"
   ]
  },
  {
   "cell_type": "code",
   "execution_count": null,
   "metadata": {
    "deletable": false,
    "editable": false,
    "nbgrader": {
     "checksum": "3c6825f9cb1e21973a3817f181b9d32f",
     "grade": true,
     "grade_id": "agg6c",
     "locked": true,
     "points": 2,
     "schema_version": 1,
     "solution": false
    }
   },
   "outputs": [],
   "source": [
    "\n",
    "checker_6S(_)"
   ]
  },
  {
   "cell_type": "markdown",
   "metadata": {},
   "source": [
    "### Show the 10 government forms with the largest population.\n",
    "\n"
   ]
  },
  {
   "cell_type": "code",
   "execution_count": 53,
   "metadata": {
    "deletable": false,
    "nbgrader": {
     "checksum": "c080280572f8bf019aecc2e2014d801d",
     "grade": true,
     "grade_id": "agg7",
     "locked": false,
     "points": 2,
     "schema_version": 1,
     "solution": true
    }
   },
   "outputs": [
    {
     "name": "stdout",
     "output_type": "stream",
     "text": [
      "10 rows affected.\n"
     ]
    },
    {
     "data": {
      "text/html": [
       "<table>\n",
       "    <tr>\n",
       "        <th>governmentform</th>\n",
       "        <th>population_sum</th>\n",
       "    </tr>\n",
       "    <tr>\n",
       "        <td>Federal Republic</td>\n",
       "        <td>2009320500</td>\n",
       "    </tr>\n",
       "    <tr>\n",
       "        <td>Republic</td>\n",
       "        <td>2003311200</td>\n",
       "    </tr>\n",
       "    <tr>\n",
       "        <td>People&#x27;sRepublic</td>\n",
       "        <td>1277558000</td>\n",
       "    </tr>\n",
       "    <tr>\n",
       "        <td>Constitutional Monarchy</td>\n",
       "        <td>405893000</td>\n",
       "    </tr>\n",
       "    <tr>\n",
       "        <td>Socialistic Republic</td>\n",
       "        <td>115072000</td>\n",
       "    </tr>\n",
       "    <tr>\n",
       "        <td>Islamic Republic</td>\n",
       "        <td>97192000</td>\n",
       "    </tr>\n",
       "    <tr>\n",
       "        <td>Constitutional Monarchy, Federation</td>\n",
       "        <td>82516000</td>\n",
       "    </tr>\n",
       "    <tr>\n",
       "        <td>Monarchy</td>\n",
       "        <td>25437000</td>\n",
       "    </tr>\n",
       "    <tr>\n",
       "        <td>Islamic Emirate</td>\n",
       "        <td>22720000</td>\n",
       "    </tr>\n",
       "    <tr>\n",
       "        <td>Special Administrative Region of China</td>\n",
       "        <td>7255000</td>\n",
       "    </tr>\n",
       "</table>"
      ],
      "text/plain": [
       "[('Federal Republic', 2009320500),\n",
       " ('Republic', 2003311200),\n",
       " (\"People'sRepublic\", 1277558000),\n",
       " ('Constitutional Monarchy', 405893000),\n",
       " ('Socialistic Republic', 115072000),\n",
       " ('Islamic Republic', 97192000),\n",
       " ('Constitutional Monarchy, Federation', 82516000),\n",
       " ('Monarchy', 25437000),\n",
       " ('Islamic Emirate', 22720000),\n",
       " ('Special Administrative Region of China', 7255000)]"
      ]
     },
     "execution_count": 53,
     "metadata": {},
     "output_type": "execute_result"
    }
   ],
   "source": [
    "%%sql\n",
    "\n",
    "SELECT governmentform, sum(population) AS population_sum\n",
    "FROM country\n",
    "GROUP BY governmentform\n",
    "ORDER BY population_sum DESC\n",
    "LIMIT 10;"
   ]
  },
  {
   "cell_type": "code",
   "execution_count": null,
   "metadata": {
    "deletable": false,
    "editable": false,
    "nbgrader": {
     "checksum": "a9ba71c5f3ce53ae06a1755d2e2f20ef",
     "grade": true,
     "grade_id": "agg7c",
     "locked": true,
     "points": 2,
     "schema_version": 1,
     "solution": false
    }
   },
   "outputs": [],
   "source": [
    "\n",
    "checker_7S(_)"
   ]
  },
  {
   "cell_type": "markdown",
   "metadata": {},
   "source": [
    "### List the total population of each continent and order them from smallest to largest.\n",
    "\n"
   ]
  },
  {
   "cell_type": "code",
   "execution_count": 54,
   "metadata": {
    "deletable": false,
    "nbgrader": {
     "checksum": "b3c9de872572e168be28b96368289219",
     "grade": true,
     "grade_id": "agg8",
     "locked": false,
     "points": 2,
     "schema_version": 1,
     "solution": true
    }
   },
   "outputs": [
    {
     "name": "stdout",
     "output_type": "stream",
     "text": [
      "7 rows affected.\n"
     ]
    },
    {
     "data": {
      "text/html": [
       "<table>\n",
       "    <tr>\n",
       "        <th>continent</th>\n",
       "        <th>population_sum</th>\n",
       "    </tr>\n",
       "    <tr>\n",
       "        <td>Antarctica</td>\n",
       "        <td>0</td>\n",
       "    </tr>\n",
       "    <tr>\n",
       "        <td>Oceania</td>\n",
       "        <td>30401150</td>\n",
       "    </tr>\n",
       "    <tr>\n",
       "        <td>South America</td>\n",
       "        <td>345780000</td>\n",
       "    </tr>\n",
       "    <tr>\n",
       "        <td>North America</td>\n",
       "        <td>482993000</td>\n",
       "    </tr>\n",
       "    <tr>\n",
       "        <td>Europe</td>\n",
       "        <td>730074600</td>\n",
       "    </tr>\n",
       "    <tr>\n",
       "        <td>Africa</td>\n",
       "        <td>784475000</td>\n",
       "    </tr>\n",
       "    <tr>\n",
       "        <td>Asia</td>\n",
       "        <td>3705025700</td>\n",
       "    </tr>\n",
       "</table>"
      ],
      "text/plain": [
       "[('Antarctica', 0),\n",
       " ('Oceania', 30401150),\n",
       " ('South America', 345780000),\n",
       " ('North America', 482993000),\n",
       " ('Europe', 730074600),\n",
       " ('Africa', 784475000),\n",
       " ('Asia', 3705025700)]"
      ]
     },
     "execution_count": 54,
     "metadata": {},
     "output_type": "execute_result"
    }
   ],
   "source": [
    "%%sql\n",
    "\n",
    "SELECT continent, sum(population) AS population_sum\n",
    "FROM country\n",
    "GROUP BY continent\n",
    "ORDER BY population_sum;"
   ]
  },
  {
   "cell_type": "code",
   "execution_count": null,
   "metadata": {
    "deletable": false,
    "editable": false,
    "nbgrader": {
     "checksum": "82afbe021aad061d826edbcb6cca6de0",
     "grade": true,
     "grade_id": "agg8c",
     "locked": true,
     "points": 2,
     "schema_version": 1,
     "solution": false
    }
   },
   "outputs": [],
   "source": [
    "\n",
    "checker_8S(_)"
   ]
  },
  {
   "cell_type": "markdown",
   "metadata": {},
   "source": [
    "### Show the total number of countries for each region in Europe."
   ]
  },
  {
   "cell_type": "code",
   "execution_count": 55,
   "metadata": {
    "deletable": false,
    "nbgrader": {
     "checksum": "b6be1d0afc5aa54bdeb807743787f3b7",
     "grade": true,
     "grade_id": "agg9",
     "locked": false,
     "points": 2,
     "schema_version": 1,
     "solution": true
    }
   },
   "outputs": [
    {
     "name": "stdout",
     "output_type": "stream",
     "text": [
      "6 rows affected.\n"
     ]
    },
    {
     "data": {
      "text/html": [
       "<table>\n",
       "    <tr>\n",
       "        <th>region</th>\n",
       "        <th>countrs_num</th>\n",
       "    </tr>\n",
       "    <tr>\n",
       "        <td>British Islands</td>\n",
       "        <td>2</td>\n",
       "    </tr>\n",
       "    <tr>\n",
       "        <td>Baltic Countries</td>\n",
       "        <td>3</td>\n",
       "    </tr>\n",
       "    <tr>\n",
       "        <td>Nordic Countries</td>\n",
       "        <td>7</td>\n",
       "    </tr>\n",
       "    <tr>\n",
       "        <td>Western Europe</td>\n",
       "        <td>9</td>\n",
       "    </tr>\n",
       "    <tr>\n",
       "        <td>Eastern Europe</td>\n",
       "        <td>10</td>\n",
       "    </tr>\n",
       "    <tr>\n",
       "        <td>Southern Europe</td>\n",
       "        <td>15</td>\n",
       "    </tr>\n",
       "</table>"
      ],
      "text/plain": [
       "[('British Islands', 2),\n",
       " ('Baltic Countries', 3),\n",
       " ('Nordic Countries', 7),\n",
       " ('Western Europe', 9),\n",
       " ('Eastern Europe', 10),\n",
       " ('Southern Europe', 15)]"
      ]
     },
     "execution_count": 55,
     "metadata": {},
     "output_type": "execute_result"
    }
   ],
   "source": [
    "%%sql\n",
    "\n",
    "SELECT region, count(name) AS countrs_num\n",
    "FROM country\n",
    "WHERE continent LIKE 'Europe'\n",
    "GROUP BY region\n",
    "ORDER BY countrs_num;"
   ]
  },
  {
   "cell_type": "code",
   "execution_count": null,
   "metadata": {
    "deletable": false,
    "editable": false,
    "nbgrader": {
     "checksum": "9cae1608c8034a2739ab409e72324780",
     "grade": true,
     "grade_id": "agg9c",
     "locked": true,
     "points": 2,
     "schema_version": 1,
     "solution": false
    }
   },
   "outputs": [],
   "source": [
    "\n",
    "checker_9S(_)"
   ]
  },
  {
   "cell_type": "markdown",
   "metadata": {},
   "source": [
    "### List the total population of each region in Africa from lowest to highest."
   ]
  },
  {
   "cell_type": "code",
   "execution_count": 56,
   "metadata": {
    "deletable": false,
    "nbgrader": {
     "checksum": "c280c48369205664ba21218d3d83c9f4",
     "grade": true,
     "grade_id": "agg10",
     "locked": false,
     "points": 2,
     "schema_version": 1,
     "solution": true
    }
   },
   "outputs": [
    {
     "name": "stdout",
     "output_type": "stream",
     "text": [
      "5 rows affected.\n"
     ]
    },
    {
     "data": {
      "text/html": [
       "<table>\n",
       "    <tr>\n",
       "        <th>region</th>\n",
       "        <th>population</th>\n",
       "    </tr>\n",
       "    <tr>\n",
       "        <td>Southern Africa</td>\n",
       "        <td>46886000</td>\n",
       "    </tr>\n",
       "    <tr>\n",
       "        <td>Central Africa</td>\n",
       "        <td>95652000</td>\n",
       "    </tr>\n",
       "    <tr>\n",
       "        <td>Northern Africa</td>\n",
       "        <td>173266000</td>\n",
       "    </tr>\n",
       "    <tr>\n",
       "        <td>Western Africa</td>\n",
       "        <td>221672000</td>\n",
       "    </tr>\n",
       "    <tr>\n",
       "        <td>Eastern Africa</td>\n",
       "        <td>246999000</td>\n",
       "    </tr>\n",
       "</table>"
      ],
      "text/plain": [
       "[('Southern Africa', 46886000),\n",
       " ('Central Africa', 95652000),\n",
       " ('Northern Africa', 173266000),\n",
       " ('Western Africa', 221672000),\n",
       " ('Eastern Africa', 246999000)]"
      ]
     },
     "execution_count": 56,
     "metadata": {},
     "output_type": "execute_result"
    }
   ],
   "source": [
    "%%sql\n",
    "\n",
    "SELECT region, sum(population) AS population\n",
    "FROM country\n",
    "WHERE continent LIKE 'Africa'\n",
    "GROUP BY region\n",
    "ORDER BY population;"
   ]
  },
  {
   "cell_type": "code",
   "execution_count": null,
   "metadata": {
    "deletable": false,
    "editable": false,
    "nbgrader": {
     "checksum": "e90715a1b99dda699dd8dfccefaf5218",
     "grade": true,
     "grade_id": "agg10c",
     "locked": true,
     "points": 2,
     "schema_version": 1,
     "solution": false
    }
   },
   "outputs": [],
   "source": [
    "\n",
    "checker_10S(_)"
   ]
  }
 ],
 "metadata": {
  "kernelspec": {
   "display_name": "Python 3",
   "language": "python",
   "name": "python3"
  },
  "language_info": {
   "codemirror_mode": {
    "name": "ipython",
    "version": 3
   },
   "file_extension": ".py",
   "mimetype": "text/x-python",
   "name": "python",
   "nbconvert_exporter": "python",
   "pygments_lexer": "ipython3",
   "version": "3.5.1"
  }
 },
 "nbformat": 4,
 "nbformat_minor": 1
}

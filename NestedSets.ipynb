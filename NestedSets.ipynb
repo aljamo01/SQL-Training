{
 "cells": [
  {
   "cell_type": "markdown",
   "metadata": {},
   "source": [
    "# Nested Queries and Set Operations\n"
   ]
  },
  {
   "cell_type": "code",
   "execution_count": 4,
   "metadata": {},
   "outputs": [],
   "source": [
    "import warnings\n",
    "warnings.filterwarnings('ignore')\n",
    "from sols7 import *"
   ]
  },
  {
   "cell_type": "code",
   "execution_count": 5,
   "metadata": {},
   "outputs": [
    {
     "name": "stdout",
     "output_type": "stream",
     "text": [
      "The sql extension is already loaded. To reload it, use:\n",
      "  %reload_ext sql\n"
     ]
    }
   ],
   "source": [
    "%load_ext sql"
   ]
  },
  {
   "cell_type": "code",
   "execution_count": 6,
   "metadata": {},
   "outputs": [
    {
     "data": {
      "text/plain": [
       "'Connected: aljamo01@employees'"
      ]
     },
     "execution_count": 6,
     "metadata": {},
     "output_type": "execute_result"
    }
   ],
   "source": [
    "%sql postgresql://aljamo01:@localhost/employees"
   ]
  },
  {
   "cell_type": "code",
   "execution_count": 49,
   "metadata": {},
   "outputs": [
    {
     "name": "stdout",
     "output_type": "stream",
     "text": [
      "1 rows affected.\n"
     ]
    },
    {
     "data": {
      "text/html": [
       "<table>\n",
       "    <tr>\n",
       "        <th>emp_no</th>\n",
       "        <th>birth_date</th>\n",
       "        <th>first_name</th>\n",
       "        <th>last_name</th>\n",
       "        <th>gender</th>\n",
       "        <th>hire_date</th>\n",
       "    </tr>\n",
       "    <tr>\n",
       "        <td>10001</td>\n",
       "        <td>1953-09-02</td>\n",
       "        <td>Georgi</td>\n",
       "        <td>Facello</td>\n",
       "        <td>M</td>\n",
       "        <td>1986-06-26</td>\n",
       "    </tr>\n",
       "</table>"
      ],
      "text/plain": [
       "[(10001, datetime.date(1953, 9, 2), 'Georgi', 'Facello', 'M', datetime.date(1986, 6, 26))]"
      ]
     },
     "execution_count": 49,
     "metadata": {},
     "output_type": "execute_result"
    }
   ],
   "source": [
    "%%sql\n",
    "SELECT *\n",
    "FROM employees\n",
    "LIMIT(1)"
   ]
  },
  {
   "cell_type": "code",
   "execution_count": 50,
   "metadata": {},
   "outputs": [
    {
     "name": "stdout",
     "output_type": "stream",
     "text": [
      "1 rows affected.\n"
     ]
    },
    {
     "data": {
      "text/html": [
       "<table>\n",
       "    <tr>\n",
       "        <th>dept_no</th>\n",
       "        <th>dept_name</th>\n",
       "    </tr>\n",
       "    <tr>\n",
       "        <td>d001</td>\n",
       "        <td>Marketing</td>\n",
       "    </tr>\n",
       "</table>"
      ],
      "text/plain": [
       "[('d001', 'Marketing')]"
      ]
     },
     "execution_count": 50,
     "metadata": {},
     "output_type": "execute_result"
    }
   ],
   "source": [
    "%%sql\n",
    "SELECT *\n",
    "FROM departments\n",
    "LIMIT(1)"
   ]
  },
  {
   "cell_type": "code",
   "execution_count": 51,
   "metadata": {},
   "outputs": [
    {
     "name": "stdout",
     "output_type": "stream",
     "text": [
      "1 rows affected.\n"
     ]
    },
    {
     "data": {
      "text/html": [
       "<table>\n",
       "    <tr>\n",
       "        <th>emp_no</th>\n",
       "        <th>title</th>\n",
       "        <th>from_date</th>\n",
       "        <th>to_date</th>\n",
       "    </tr>\n",
       "    <tr>\n",
       "        <td>10001</td>\n",
       "        <td>Senior Engineer</td>\n",
       "        <td>1986-06-26</td>\n",
       "        <td>9999-01-01</td>\n",
       "    </tr>\n",
       "</table>"
      ],
      "text/plain": [
       "[(10001, 'Senior Engineer', datetime.date(1986, 6, 26), datetime.date(9999, 1, 1))]"
      ]
     },
     "execution_count": 51,
     "metadata": {},
     "output_type": "execute_result"
    }
   ],
   "source": [
    "%%sql\n",
    "SELECT *\n",
    "FROM titles\n",
    "LIMIT(1)"
   ]
  },
  {
   "cell_type": "code",
   "execution_count": null,
   "metadata": {},
   "outputs": [],
   "source": []
  },
  {
   "cell_type": "markdown",
   "metadata": {},
   "source": [
    "### 1.  How many employees have never worked for the quality management department?"
   ]
  },
  {
   "cell_type": "code",
   "execution_count": 10,
   "metadata": {
    "deletable": false,
    "nbgrader": {
     "checksum": "4bbb0642d061e67442b03bc4c56fc921",
     "grade": false,
     "grade_id": "subq1",
     "locked": false,
     "schema_version": 1,
     "solution": true
    }
   },
   "outputs": [
    {
     "name": "stdout",
     "output_type": "stream",
     "text": [
      "1 rows affected.\n"
     ]
    },
    {
     "data": {
      "text/html": [
       "<table>\n",
       "    <tr>\n",
       "        <th>count</th>\n",
       "    </tr>\n",
       "    <tr>\n",
       "        <td>279907</td>\n",
       "    </tr>\n",
       "</table>"
      ],
      "text/plain": [
       "[(279907,)]"
      ]
     },
     "execution_count": 10,
     "metadata": {},
     "output_type": "execute_result"
    }
   ],
   "source": [
    "%%sql \n",
    "SELECT count(emp_no)\n",
    "FROM ((SELECT emp_no FROM employees) EXCEPT (SELECT emp_no FROM departments natural join dept_emp WHERE dept_name = 'Quality Management')) a natural join employees"
   ]
  },
  {
   "cell_type": "code",
   "execution_count": 11,
   "metadata": {
    "deletable": false,
    "editable": false,
    "nbgrader": {
     "checksum": "d901eb41b62a83f7cbd9431bab45986b",
     "grade": true,
     "grade_id": "subq1_test",
     "locked": true,
     "points": 2,
     "schema_version": 1,
     "solution": false
    }
   },
   "outputs": [
    {
     "name": "stdout",
     "output_type": "stream",
     "text": [
      "Correct!\n"
     ]
    }
   ],
   "source": [
    "test_subq1(_)"
   ]
  },
  {
   "cell_type": "markdown",
   "metadata": {},
   "source": [
    "### 1.a  Select the first and last names of the first 10 employees ordered by last name, first name that have never worked for the development department."
   ]
  },
  {
   "cell_type": "code",
   "execution_count": 13,
   "metadata": {
    "deletable": false,
    "nbgrader": {
     "checksum": "f4649550fe499bdb86dd0d09352d69f7",
     "grade": false,
     "grade_id": "subq1a",
     "locked": false,
     "schema_version": 1,
     "solution": true
    }
   },
   "outputs": [
    {
     "name": "stdout",
     "output_type": "stream",
     "text": [
      "10 rows affected.\n"
     ]
    },
    {
     "data": {
      "text/html": [
       "<table>\n",
       "    <tr>\n",
       "        <th>first_name</th>\n",
       "        <th>last_name</th>\n",
       "    </tr>\n",
       "    <tr>\n",
       "        <td>Aemilian</td>\n",
       "        <td>Aamodt</td>\n",
       "    </tr>\n",
       "    <tr>\n",
       "        <td>Aleksander</td>\n",
       "        <td>Aamodt</td>\n",
       "    </tr>\n",
       "    <tr>\n",
       "        <td>Alexius</td>\n",
       "        <td>Aamodt</td>\n",
       "    </tr>\n",
       "    <tr>\n",
       "        <td>Alois</td>\n",
       "        <td>Aamodt</td>\n",
       "    </tr>\n",
       "    <tr>\n",
       "        <td>Amabile</td>\n",
       "        <td>Aamodt</td>\n",
       "    </tr>\n",
       "    <tr>\n",
       "        <td>Anestis</td>\n",
       "        <td>Aamodt</td>\n",
       "    </tr>\n",
       "    <tr>\n",
       "        <td>Anwar</td>\n",
       "        <td>Aamodt</td>\n",
       "    </tr>\n",
       "    <tr>\n",
       "        <td>Arlette</td>\n",
       "        <td>Aamodt</td>\n",
       "    </tr>\n",
       "    <tr>\n",
       "        <td>Arumugam</td>\n",
       "        <td>Aamodt</td>\n",
       "    </tr>\n",
       "    <tr>\n",
       "        <td>Arunachalam</td>\n",
       "        <td>Aamodt</td>\n",
       "    </tr>\n",
       "</table>"
      ],
      "text/plain": [
       "[('Aemilian', 'Aamodt'),\n",
       " ('Aleksander', 'Aamodt'),\n",
       " ('Alexius', 'Aamodt'),\n",
       " ('Alois', 'Aamodt'),\n",
       " ('Amabile', 'Aamodt'),\n",
       " ('Anestis', 'Aamodt'),\n",
       " ('Anwar', 'Aamodt'),\n",
       " ('Arlette', 'Aamodt'),\n",
       " ('Arumugam', 'Aamodt'),\n",
       " ('Arunachalam', 'Aamodt')]"
      ]
     },
     "execution_count": 13,
     "metadata": {},
     "output_type": "execute_result"
    }
   ],
   "source": [
    "%%sql\n",
    "SELECT first_name, last_name\n",
    "FROM ((SELECT emp_no FROM employees) EXCEPT (SELECT emp_no FROM departments natural join dept_emp WHERE dept_name = 'Development')) a natural join employees\n",
    "ORDER BY last_name, first_name\n",
    "LIMIT (10)"
   ]
  },
  {
   "cell_type": "code",
   "execution_count": 14,
   "metadata": {
    "deletable": false,
    "editable": false,
    "nbgrader": {
     "checksum": "30a291747ef1fa02b032456f900824c8",
     "grade": true,
     "grade_id": "subq1a_test",
     "locked": true,
     "points": 2,
     "schema_version": 1,
     "solution": false
    }
   },
   "outputs": [
    {
     "name": "stdout",
     "output_type": "stream",
     "text": [
      "Correct!\n"
     ]
    }
   ],
   "source": [
    "test_subq1a(_)"
   ]
  },
  {
   "cell_type": "markdown",
   "metadata": {},
   "source": [
    "### 2.  Give the first name, last name of the first 10 employees that have not been a Senior Engineer or Senior Staff. Order by employee number. \"First\" means by assigned employees number and not by hire date."
   ]
  },
  {
   "cell_type": "code",
   "execution_count": 62,
   "metadata": {
    "deletable": false,
    "nbgrader": {
     "checksum": "652a899a61b055fc5e5429b384348da2",
     "grade": false,
     "grade_id": "subq2",
     "locked": false,
     "schema_version": 1,
     "solution": true
    }
   },
   "outputs": [
    {
     "name": "stdout",
     "output_type": "stream",
     "text": [
      "9 rows affected.\n"
     ]
    },
    {
     "data": {
      "text/html": [
       "<table>\n",
       "    <tr>\n",
       "        <th>first_name</th>\n",
       "        <th>last_name</th>\n",
       "    </tr>\n",
       "    <tr>\n",
       "        <td>Bezalel</td>\n",
       "        <td>Simmel</td>\n",
       "    </tr>\n",
       "    <tr>\n",
       "        <td>Tzvetan</td>\n",
       "        <td>Zielinski</td>\n",
       "    </tr>\n",
       "    <tr>\n",
       "        <td>Duangkaew</td>\n",
       "        <td>Piveteau</td>\n",
       "    </tr>\n",
       "    <tr>\n",
       "        <td>Saniya</td>\n",
       "        <td>Kalloufi</td>\n",
       "    </tr>\n",
       "    <tr>\n",
       "        <td>Mary</td>\n",
       "        <td>Sluis</td>\n",
       "    </tr>\n",
       "    <tr>\n",
       "        <td>Sumant</td>\n",
       "        <td>Peac</td>\n",
       "    </tr>\n",
       "    <tr>\n",
       "        <td>Patricio</td>\n",
       "        <td>Bridgland</td>\n",
       "    </tr>\n",
       "    <tr>\n",
       "        <td>Chirstian</td>\n",
       "        <td>Koblick</td>\n",
       "    </tr>\n",
       "    <tr>\n",
       "        <td>Kyoichi</td>\n",
       "        <td>Maliniak</td>\n",
       "    </tr>\n",
       "</table>"
      ],
      "text/plain": [
       "[('Bezalel', 'Simmel'),\n",
       " ('Tzvetan', 'Zielinski'),\n",
       " ('Duangkaew', 'Piveteau'),\n",
       " ('Saniya', 'Kalloufi'),\n",
       " ('Mary', 'Sluis'),\n",
       " ('Sumant', 'Peac'),\n",
       " ('Patricio', 'Bridgland'),\n",
       " ('Chirstian', 'Koblick'),\n",
       " ('Kyoichi', 'Maliniak')]"
      ]
     },
     "execution_count": 62,
     "metadata": {},
     "output_type": "execute_result"
    }
   ],
   "source": [
    "%%sql\n",
    "SELECT distinct first_name, last_name\n",
    "FROM employees natural join (SELECT emp_no, title FROM titles\n",
    "WHERE title != 'Senior Engineer' and title != 'Senior Staff' ORDER BY emp_no LIMIT (10)) a"
   ]
  },
  {
   "cell_type": "code",
   "execution_count": 63,
   "metadata": {
    "deletable": false,
    "editable": false,
    "nbgrader": {
     "checksum": "b2cccf9895577b46d91af5c777c533c2",
     "grade": true,
     "grade_id": "subq2_test",
     "locked": true,
     "points": 2,
     "schema_version": 1,
     "solution": false
    }
   },
   "outputs": [
    {
     "name": "stdout",
     "output_type": "stream",
     "text": [
      "Error! Results are not the same length. I was expecting 10 rows and your result has 9 rows.\n"
     ]
    },
    {
     "ename": "AssertionError",
     "evalue": "",
     "output_type": "error",
     "traceback": [
      "\u001b[0;31m---------------------------------------------------------------------------\u001b[0m",
      "\u001b[0;31mAssertionError\u001b[0m                            Traceback (most recent call last)",
      "\u001b[0;32m<ipython-input-63-2883de6cd36a>\u001b[0m in \u001b[0;36m<module>\u001b[0;34m()\u001b[0m\n\u001b[0;32m----> 1\u001b[0;31m \u001b[0mtest_subq2\u001b[0m\u001b[0;34m(\u001b[0m\u001b[0m_\u001b[0m\u001b[0;34m)\u001b[0m\u001b[0;34m\u001b[0m\u001b[0m\n\u001b[0m",
      "\u001b[0;32m/usr/local/lib/python3.5/site-packages/sols7.pyc\u001b[0m in \u001b[0;36mtest_subq2\u001b[0;34m(got)\u001b[0m\n",
      "\u001b[0;32m/usr/local/lib/python3.5/site-packages/sols7.pyc\u001b[0m in \u001b[0;36mcheckSQL\u001b[0;34m(result, query)\u001b[0m\n",
      "\u001b[0;32m/usr/local/lib/python3.5/site-packages/sols7.pyc\u001b[0m in \u001b[0;36mrowNumCheck\u001b[0;34m(result, query)\u001b[0m\n",
      "\u001b[0;31mAssertionError\u001b[0m: "
     ]
    }
   ],
   "source": [
    "test_subq2(_)"
   ]
  },
  {
   "cell_type": "markdown",
   "metadata": {},
   "source": [
    "### 3.  How many departments has each manager managed?\n",
    "\n",
    "Your result should be in alphabetical order by last name, then first name"
   ]
  },
  {
   "cell_type": "code",
   "execution_count": 23,
   "metadata": {
    "deletable": false,
    "nbgrader": {
     "checksum": "844e1fa4e18f270bc02e9303c9383910",
     "grade": false,
     "grade_id": "subq3",
     "locked": false,
     "schema_version": 1,
     "solution": true
    }
   },
   "outputs": [
    {
     "name": "stdout",
     "output_type": "stream",
     "text": [
      "24 rows affected.\n"
     ]
    },
    {
     "data": {
      "text/html": [
       "<table>\n",
       "    <tr>\n",
       "        <th>first_name</th>\n",
       "        <th>last_name</th>\n",
       "        <th>count</th>\n",
       "    </tr>\n",
       "    <tr>\n",
       "        <td>Ebru</td>\n",
       "        <td>Alpin</td>\n",
       "        <td>1</td>\n",
       "    </tr>\n",
       "    <tr>\n",
       "        <td>Tonny</td>\n",
       "        <td>Butterworth</td>\n",
       "        <td>1</td>\n",
       "    </tr>\n",
       "    <tr>\n",
       "        <td>Rosine</td>\n",
       "        <td>Cools</td>\n",
       "        <td>1</td>\n",
       "    </tr>\n",
       "    <tr>\n",
       "        <td>Leon</td>\n",
       "        <td>DasSarma</td>\n",
       "        <td>1</td>\n",
       "    </tr>\n",
       "    <tr>\n",
       "        <td>Oscar</td>\n",
       "        <td>Ghazalie</td>\n",
       "        <td>1</td>\n",
       "    </tr>\n",
       "    <tr>\n",
       "        <td>Marjo</td>\n",
       "        <td>Giarratana</td>\n",
       "        <td>1</td>\n",
       "    </tr>\n",
       "    <tr>\n",
       "        <td>DeForest</td>\n",
       "        <td>Hagimont</td>\n",
       "        <td>1</td>\n",
       "    </tr>\n",
       "    <tr>\n",
       "        <td>Rutger</td>\n",
       "        <td>Hofmeyr</td>\n",
       "        <td>1</td>\n",
       "    </tr>\n",
       "    <tr>\n",
       "        <td>Przemyslawa</td>\n",
       "        <td>Kaelbling</td>\n",
       "        <td>1</td>\n",
       "    </tr>\n",
       "    <tr>\n",
       "        <td>Hilary</td>\n",
       "        <td>Kambil</td>\n",
       "        <td>1</td>\n",
       "    </tr>\n",
       "    <tr>\n",
       "        <td>Shem</td>\n",
       "        <td>Kieras</td>\n",
       "        <td>1</td>\n",
       "    </tr>\n",
       "    <tr>\n",
       "        <td>Isamu</td>\n",
       "        <td>Legleitner</td>\n",
       "        <td>1</td>\n",
       "    </tr>\n",
       "    <tr>\n",
       "        <td>Margareta</td>\n",
       "        <td>Markovitch</td>\n",
       "        <td>1</td>\n",
       "    </tr>\n",
       "    <tr>\n",
       "        <td>Vishwani</td>\n",
       "        <td>Minakawa</td>\n",
       "        <td>1</td>\n",
       "    </tr>\n",
       "    <tr>\n",
       "        <td>Peternela</td>\n",
       "        <td>Onuegbe</td>\n",
       "        <td>1</td>\n",
       "    </tr>\n",
       "    <tr>\n",
       "        <td>Shirish</td>\n",
       "        <td>Ossenbruggen</td>\n",
       "        <td>1</td>\n",
       "    </tr>\n",
       "    <tr>\n",
       "        <td>Dung</td>\n",
       "        <td>Pesch</td>\n",
       "        <td>1</td>\n",
       "    </tr>\n",
       "    <tr>\n",
       "        <td>Sanjoy</td>\n",
       "        <td>Quadeer</td>\n",
       "        <td>1</td>\n",
       "    </tr>\n",
       "    <tr>\n",
       "        <td>Karsten</td>\n",
       "        <td>Sigstam</td>\n",
       "        <td>1</td>\n",
       "    </tr>\n",
       "    <tr>\n",
       "        <td>Xiaobin</td>\n",
       "        <td>Spinelli</td>\n",
       "        <td>1</td>\n",
       "    </tr>\n",
       "    <tr>\n",
       "        <td>Arie</td>\n",
       "        <td>Staelin</td>\n",
       "        <td>1</td>\n",
       "    </tr>\n",
       "    <tr>\n",
       "        <td>Yuchang</td>\n",
       "        <td>Weedman</td>\n",
       "        <td>1</td>\n",
       "    </tr>\n",
       "    <tr>\n",
       "        <td>Krassimir</td>\n",
       "        <td>Wegerle</td>\n",
       "        <td>1</td>\n",
       "    </tr>\n",
       "    <tr>\n",
       "        <td>Hauke</td>\n",
       "        <td>Zhang</td>\n",
       "        <td>1</td>\n",
       "    </tr>\n",
       "</table>"
      ],
      "text/plain": [
       "[('Ebru', 'Alpin', 1),\n",
       " ('Tonny', 'Butterworth', 1),\n",
       " ('Rosine', 'Cools', 1),\n",
       " ('Leon', 'DasSarma', 1),\n",
       " ('Oscar', 'Ghazalie', 1),\n",
       " ('Marjo', 'Giarratana', 1),\n",
       " ('DeForest', 'Hagimont', 1),\n",
       " ('Rutger', 'Hofmeyr', 1),\n",
       " ('Przemyslawa', 'Kaelbling', 1),\n",
       " ('Hilary', 'Kambil', 1),\n",
       " ('Shem', 'Kieras', 1),\n",
       " ('Isamu', 'Legleitner', 1),\n",
       " ('Margareta', 'Markovitch', 1),\n",
       " ('Vishwani', 'Minakawa', 1),\n",
       " ('Peternela', 'Onuegbe', 1),\n",
       " ('Shirish', 'Ossenbruggen', 1),\n",
       " ('Dung', 'Pesch', 1),\n",
       " ('Sanjoy', 'Quadeer', 1),\n",
       " ('Karsten', 'Sigstam', 1),\n",
       " ('Xiaobin', 'Spinelli', 1),\n",
       " ('Arie', 'Staelin', 1),\n",
       " ('Yuchang', 'Weedman', 1),\n",
       " ('Krassimir', 'Wegerle', 1),\n",
       " ('Hauke', 'Zhang', 1)]"
      ]
     },
     "execution_count": 23,
     "metadata": {},
     "output_type": "execute_result"
    }
   ],
   "source": [
    "%%sql\n",
    "SELECT first_name, last_name, count(dept_name)\n",
    "FROM employees natural join (SELECT emp_no, dept_name FROM departments NATURAL JOIN dept_manager) a\n",
    "GROUP BY emp_no\n",
    "ORDER BY last_name, first_name\n"
   ]
  },
  {
   "cell_type": "code",
   "execution_count": 24,
   "metadata": {
    "deletable": false,
    "editable": false,
    "nbgrader": {
     "checksum": "cd3a5f0d8f7946d8f3ead7d65f61e6e5",
     "grade": true,
     "grade_id": "subq3_test",
     "locked": true,
     "points": 2,
     "schema_version": 1,
     "solution": false
    }
   },
   "outputs": [
    {
     "name": "stdout",
     "output_type": "stream",
     "text": [
      "Correct!\n"
     ]
    }
   ],
   "source": [
    "test_subq3(_)"
   ]
  },
  {
   "cell_type": "markdown",
   "metadata": {},
   "source": [
    "### 4.  How many people were ever managed by Tonny Butterworth? Consider all the cases."
   ]
  },
  {
   "cell_type": "code",
   "execution_count": 66,
   "metadata": {
    "deletable": false,
    "nbgrader": {
     "checksum": "9067ffda6c2e7441b275778823131ff7",
     "grade": false,
     "grade_id": "subq4",
     "locked": false,
     "schema_version": 1,
     "solution": true
    }
   },
   "outputs": [
    {
     "name": "stdout",
     "output_type": "stream",
     "text": [
      "(psycopg2.ProgrammingError) unterminated quoted string at or near \"'1988-10-17\"\n",
      "LINE 3: ...vice' and to_date>= '1985-01-01' and from_date <= '1988-10-1...\n",
      "                                                             ^\n",
      " [SQL: \"SELECT count(*) from dept_emp\\nnatural join departments\\nwhere dept_name = 'Customer Service' and to_date>= '1985-01-01' and from_date <= '1988-10-17\"]\n"
     ]
    }
   ],
   "source": [
    "SELECT (*)\n",
    "FROM (\n",
    "        SELECT from_date, to_date, dept_no\n",
    "        FROM dept_manager Natural Join employees\n",
    "        WHERE first_name= 'Tonny' and last_name = 'Butterworth') A"
   ]
  },
  {
   "cell_type": "code",
   "execution_count": 68,
   "metadata": {},
   "outputs": [
    {
     "name": "stdout",
     "output_type": "stream",
     "text": [
      "(psycopg2.ProgrammingError) unterminated quoted string at or near \"'1988-10-17\"\n",
      "LINE 3: ...vice' and to_date>= '1985-01-01' and from_date <= '1988-10-1...\n",
      "                                                             ^\n",
      " [SQL: \"SELECT count(*) from dept_emp\\nnatural join departments\\nwhere dept_name = 'Customer Service' and to_date>= '1985-01-01' and from_date <= '1988-10-17\"]\n"
     ]
    }
   ],
   "source": [
    "%%sql\n",
    "SELECT count(*) from dept_emp\n",
    "natural join departments\n",
    "where dept_name = 'Customer Service' and to_date>= '1985-01-01' and from_date <= '1988-10-17"
   ]
  },
  {
   "cell_type": "code",
   "execution_count": 67,
   "metadata": {
    "deletable": false,
    "editable": false,
    "nbgrader": {
     "checksum": "0649e4d0ab0a6a48712212da75441435",
     "grade": true,
     "grade_id": "subq4_test",
     "locked": true,
     "points": 2,
     "schema_version": 1,
     "solution": false
    }
   },
   "outputs": [
    {
     "name": "stdout",
     "output_type": "stream",
     "text": [
      "Error! You have a different number of columns than expected.\n"
     ]
    },
    {
     "ename": "TypeError",
     "evalue": "unsupported operand type(s) for +: 'int' and 'str'",
     "output_type": "error",
     "traceback": [
      "\u001b[0;31m---------------------------------------------------------------------------\u001b[0m",
      "\u001b[0;31mTypeError\u001b[0m                                 Traceback (most recent call last)",
      "\u001b[0;32m<ipython-input-67-ec4aef9c6cc1>\u001b[0m in \u001b[0;36m<module>\u001b[0;34m()\u001b[0m\n\u001b[0;32m----> 1\u001b[0;31m \u001b[0mtest_subq4\u001b[0m\u001b[0;34m(\u001b[0m\u001b[0m_\u001b[0m\u001b[0;34m)\u001b[0m\u001b[0;34m\u001b[0m\u001b[0m\n\u001b[0m",
      "\u001b[0;32m/usr/local/lib/python3.5/site-packages/sols7.pyc\u001b[0m in \u001b[0;36mtest_subq4\u001b[0;34m(got)\u001b[0m\n",
      "\u001b[0;32m/usr/local/lib/python3.5/site-packages/sols7.pyc\u001b[0m in \u001b[0;36mcheckSQL\u001b[0;34m(result, query)\u001b[0m\n",
      "\u001b[0;32m/usr/local/lib/python3.5/site-packages/sols7.pyc\u001b[0m in \u001b[0;36mcolNumCheck\u001b[0;34m(result, query)\u001b[0m\n",
      "\u001b[0;31mTypeError\u001b[0m: unsupported operand type(s) for +: 'int' and 'str'"
     ]
    }
   ],
   "source": [
    "test_subq4(_)"
   ]
  },
  {
   "cell_type": "markdown",
   "metadata": {},
   "source": [
    "### 5.  How many people have not ever been a manager?"
   ]
  },
  {
   "cell_type": "code",
   "execution_count": 38,
   "metadata": {
    "deletable": false,
    "nbgrader": {
     "checksum": "184cb99cc1d36f083dcd6da0c792cf25",
     "grade": false,
     "grade_id": "subq5",
     "locked": false,
     "schema_version": 1,
     "solution": true
    }
   },
   "outputs": [
    {
     "name": "stdout",
     "output_type": "stream",
     "text": [
      "1 rows affected.\n"
     ]
    },
    {
     "data": {
      "text/html": [
       "<table>\n",
       "    <tr>\n",
       "        <th>count</th>\n",
       "    </tr>\n",
       "    <tr>\n",
       "        <td>300000</td>\n",
       "    </tr>\n",
       "</table>"
      ],
      "text/plain": [
       "[(300000,)]"
      ]
     },
     "execution_count": 38,
     "metadata": {},
     "output_type": "execute_result"
    }
   ],
   "source": [
    "%%sql\n",
    "SELECT COUNT(*) \n",
    "FROM ((SELECT emp_no FROM employees) EXCEPT SELECT emp_no FROM titles WHERE title= 'Manager') a"
   ]
  },
  {
   "cell_type": "code",
   "execution_count": null,
   "metadata": {},
   "outputs": [],
   "source": []
  },
  {
   "cell_type": "code",
   "execution_count": 39,
   "metadata": {
    "deletable": false,
    "editable": false,
    "nbgrader": {
     "checksum": "2db8270cc891ed10a4acc127d1a7b404",
     "grade": true,
     "grade_id": "subq5_test",
     "locked": true,
     "points": 2,
     "schema_version": 1,
     "solution": false
    }
   },
   "outputs": [
    {
     "name": "stdout",
     "output_type": "stream",
     "text": [
      "Correct!\n"
     ]
    }
   ],
   "source": [
    "test_subq5(_)"
   ]
  },
  {
   "cell_type": "markdown",
   "metadata": {},
   "source": [
    "### 6.  What is the average salary for the 1980's?  What is the average salary for the 1990's?\n",
    "\n",
    "Lets define this as salary level that start and end in the same decade.  We will leave out any salaries that cross the decade boundary.\n",
    "\n",
    "Format the salaries using '$999,999.99'.\n",
    "\n",
    "Your final answer should have two columns and two rows.  The columns should be labeled decade and average."
   ]
  },
  {
   "cell_type": "code",
   "execution_count": 40,
   "metadata": {
    "deletable": false,
    "nbgrader": {
     "checksum": "007db133e41038febffd581f3c25b7d0",
     "grade": false,
     "grade_id": "subq6",
     "locked": false,
     "schema_version": 1,
     "solution": true
    }
   },
   "outputs": [
    {
     "name": "stdout",
     "output_type": "stream",
     "text": [
      "2 rows affected.\n"
     ]
    },
    {
     "data": {
      "text/html": [
       "<table>\n",
       "    <tr>\n",
       "        <th>decade</th>\n",
       "        <th>average</th>\n",
       "    </tr>\n",
       "    <tr>\n",
       "        <td>1980</td>\n",
       "        <td>$   54,985.51</td>\n",
       "    </tr>\n",
       "    <tr>\n",
       "        <td>1990</td>\n",
       "        <td>$   62,281.51</td>\n",
       "    </tr>\n",
       "</table>"
      ],
      "text/plain": [
       "[('1980', '$   54,985.51'), ('1990', '$   62,281.51')]"
      ]
     },
     "execution_count": 40,
     "metadata": {},
     "output_type": "execute_result"
    }
   ],
   "source": [
    "%%sql\n",
    "SELECT '1980' decade, to_char(avg(salary), '$ 999,999.99') average FROM salaries WHERE '1980-01-01' <= from_date and to_date <= '1989-12-31'\n",
    "UNION\n",
    "SELECT '1990' decade, to_char(avg(salary), '$ 999,999.99') average FROM salaries WHERE '1990-01-01' <= from_date and to_date <= '1999-12-31'"
   ]
  },
  {
   "cell_type": "code",
   "execution_count": 41,
   "metadata": {
    "deletable": false,
    "editable": false,
    "nbgrader": {
     "checksum": "ecd353a0f70053cc2e96d3f5b5ab4aed",
     "grade": true,
     "grade_id": "subq6_test",
     "locked": true,
     "points": 2,
     "schema_version": 1,
     "solution": false
    }
   },
   "outputs": [
    {
     "name": "stdout",
     "output_type": "stream",
     "text": [
      "Error! Line by line comparison shows that your query is invalid. Read the question carefully.\n",
      "Your solution should be like the following table:\n",
      "  decade       average\n",
      "0   1980  $  54,985.51\n",
      "1   1990  $  62,281.51\n",
      "\n"
     ]
    },
    {
     "ename": "AssertionError",
     "evalue": "",
     "output_type": "error",
     "traceback": [
      "\u001b[0;31m---------------------------------------------------------------------------\u001b[0m",
      "\u001b[0;31mAssertionError\u001b[0m                            Traceback (most recent call last)",
      "\u001b[0;32m<ipython-input-41-bb3a0899c2be>\u001b[0m in \u001b[0;36m<module>\u001b[0;34m()\u001b[0m\n\u001b[0;32m----> 1\u001b[0;31m \u001b[0mtest_subq6\u001b[0m\u001b[0;34m(\u001b[0m\u001b[0m_\u001b[0m\u001b[0;34m)\u001b[0m\u001b[0;34m\u001b[0m\u001b[0m\n\u001b[0m",
      "\u001b[0;32m/usr/local/lib/python3.5/site-packages/sols7.pyc\u001b[0m in \u001b[0;36mtest_subq6\u001b[0;34m(got)\u001b[0m\n",
      "\u001b[0;32m/usr/local/lib/python3.5/site-packages/sols7.pyc\u001b[0m in \u001b[0;36mcheckSQL\u001b[0;34m(result, query)\u001b[0m\n",
      "\u001b[0;32m/usr/local/lib/python3.5/site-packages/sols7.pyc\u001b[0m in \u001b[0;36mshowDiff\u001b[0;34m(query)\u001b[0m\n",
      "\u001b[0;31mAssertionError\u001b[0m: "
     ]
    }
   ],
   "source": [
    "test_subq6(_)"
   ]
  },
  {
   "cell_type": "markdown",
   "metadata": {},
   "source": [
    "### 7.  How many people have had 5 or more raises since May 5, 1979?"
   ]
  },
  {
   "cell_type": "code",
   "execution_count": 42,
   "metadata": {
    "deletable": false,
    "nbgrader": {
     "checksum": "47f93424918f8bfbf20828d914e7cac2",
     "grade": false,
     "grade_id": "subq8",
     "locked": false,
     "schema_version": 1,
     "solution": true
    }
   },
   "outputs": [
    {
     "name": "stdout",
     "output_type": "stream",
     "text": [
      "1 rows affected.\n"
     ]
    },
    {
     "data": {
      "text/html": [
       "<table>\n",
       "    <tr>\n",
       "        <th>count</th>\n",
       "    </tr>\n",
       "    <tr>\n",
       "        <td>245432</td>\n",
       "    </tr>\n",
       "</table>"
      ],
      "text/plain": [
       "[(245432,)]"
      ]
     },
     "execution_count": 42,
     "metadata": {},
     "output_type": "execute_result"
    }
   ],
   "source": [
    "%%sql\n",
    "SELECT COUNT(*)\n",
    "FROM (SELECT emp_no, count(*) FROM salaries WHERE to_date > '1979-05-05'\n",
    "     GROUP BY emp_no) a WHERE count >= 5"
   ]
  },
  {
   "cell_type": "code",
   "execution_count": 43,
   "metadata": {
    "deletable": false,
    "editable": false,
    "nbgrader": {
     "checksum": "d35ae0922a3a5a39212ede3ebd3ca065",
     "grade": true,
     "grade_id": "subq8_test",
     "locked": true,
     "points": 2,
     "schema_version": 1,
     "solution": false
    }
   },
   "outputs": [
    {
     "name": "stdout",
     "output_type": "stream",
     "text": [
      "Correct!\n"
     ]
    }
   ],
   "source": [
    "test_subq7(_)"
   ]
  },
  {
   "cell_type": "code",
   "execution_count": null,
   "metadata": {},
   "outputs": [],
   "source": []
  }
 ],
 "metadata": {
  "kernelspec": {
   "display_name": "Python 3",
   "language": "python",
   "name": "python3"
  },
  "language_info": {
   "codemirror_mode": {
    "name": "ipython",
    "version": 3
   },
   "file_extension": ".py",
   "mimetype": "text/x-python",
   "name": "python",
   "nbconvert_exporter": "python",
   "pygments_lexer": "ipython3",
   "version": "3.5.1"
  }
 },
 "nbformat": 4,
 "nbformat_minor": 1
}
